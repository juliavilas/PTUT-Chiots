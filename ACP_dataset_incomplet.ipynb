{
 "cells": [
  {
   "cell_type": "code",
   "execution_count": 18,
   "id": "d410545d",
   "metadata": {},
   "outputs": [],
   "source": [
    "import pandas as pd\n",
    "import numpy as np\n",
    "import seaborn as sns\n",
    "import matplotlib.pyplot as plt\n",
    "\n",
    "from sklearn.decomposition import PCA\n",
    "from sklearn.preprocessing import StandardScaler"
   ]
  },
  {
   "cell_type": "code",
   "execution_count": 19,
   "id": "5d55560a",
   "metadata": {},
   "outputs": [],
   "source": [
    "df=pd.read_excel('Data.xlsx')"
   ]
  },
  {
   "cell_type": "code",
   "execution_count": 20,
   "id": "22eed4af",
   "metadata": {},
   "outputs": [],
   "source": [
    "df.drop(df.columns[[0, 1,-1,-2,-3,-4,-5,-6,-7,-8,-9,-10,-11,-12]],inplace=True,axis=1)"
   ]
  },
  {
   "cell_type": "code",
   "execution_count": 21,
   "id": "c4e3d0d4",
   "metadata": {},
   "outputs": [
    {
     "data": {
      "text/html": [
       "<div>\n",
       "<style scoped>\n",
       "    .dataframe tbody tr th:only-of-type {\n",
       "        vertical-align: middle;\n",
       "    }\n",
       "\n",
       "    .dataframe tbody tr th {\n",
       "        vertical-align: top;\n",
       "    }\n",
       "\n",
       "    .dataframe thead th {\n",
       "        text-align: right;\n",
       "    }\n",
       "</style>\n",
       "<table border=\"1\" class=\"dataframe\">\n",
       "  <thead>\n",
       "    <tr style=\"text-align: right;\">\n",
       "      <th></th>\n",
       "      <th>sex</th>\n",
       "      <th>group</th>\n",
       "      <th>breed_size</th>\n",
       "      <th>Breed</th>\n",
       "      <th>Litter_size</th>\n",
       "      <th>Dead</th>\n",
       "      <th>Diarr_1m</th>\n",
       "      <th>Diarr_2m</th>\n",
       "      <th>weight_D1</th>\n",
       "      <th>IgG_dam</th>\n",
       "      <th>age_dam</th>\n",
       "    </tr>\n",
       "  </thead>\n",
       "  <tbody>\n",
       "    <tr>\n",
       "      <th>0</th>\n",
       "      <td>M</td>\n",
       "      <td>EL</td>\n",
       "      <td>S</td>\n",
       "      <td>Poodle</td>\n",
       "      <td>1</td>\n",
       "      <td>1</td>\n",
       "      <td>0</td>\n",
       "      <td>0</td>\n",
       "      <td>223</td>\n",
       "      <td>8.412161</td>\n",
       "      <td>6</td>\n",
       "    </tr>\n",
       "    <tr>\n",
       "      <th>1</th>\n",
       "      <td>M</td>\n",
       "      <td>OO</td>\n",
       "      <td>S</td>\n",
       "      <td>Lhasa Apso</td>\n",
       "      <td>6</td>\n",
       "      <td>0</td>\n",
       "      <td>1</td>\n",
       "      <td>0</td>\n",
       "      <td>167</td>\n",
       "      <td>6.001322</td>\n",
       "      <td>3</td>\n",
       "    </tr>\n",
       "    <tr>\n",
       "      <th>2</th>\n",
       "      <td>F</td>\n",
       "      <td>OL</td>\n",
       "      <td>S</td>\n",
       "      <td>Lhasa Apso</td>\n",
       "      <td>6</td>\n",
       "      <td>0</td>\n",
       "      <td>1</td>\n",
       "      <td>0</td>\n",
       "      <td>165</td>\n",
       "      <td>6.001322</td>\n",
       "      <td>3</td>\n",
       "    </tr>\n",
       "    <tr>\n",
       "      <th>3</th>\n",
       "      <td>F</td>\n",
       "      <td>OO</td>\n",
       "      <td>S</td>\n",
       "      <td>Lhasa Apso</td>\n",
       "      <td>6</td>\n",
       "      <td>1</td>\n",
       "      <td>0</td>\n",
       "      <td>0</td>\n",
       "      <td>182</td>\n",
       "      <td>6.001322</td>\n",
       "      <td>3</td>\n",
       "    </tr>\n",
       "    <tr>\n",
       "      <th>4</th>\n",
       "      <td>F</td>\n",
       "      <td>OL</td>\n",
       "      <td>S</td>\n",
       "      <td>Lhasa Apso</td>\n",
       "      <td>6</td>\n",
       "      <td>1</td>\n",
       "      <td>0</td>\n",
       "      <td>0</td>\n",
       "      <td>178</td>\n",
       "      <td>6.001322</td>\n",
       "      <td>3</td>\n",
       "    </tr>\n",
       "  </tbody>\n",
       "</table>\n",
       "</div>"
      ],
      "text/plain": [
       "  sex group breed_size       Breed  Litter_size  Dead  Diarr_1m  Diarr_2m  \\\n",
       "0   M    EL          S      Poodle            1     1         0         0   \n",
       "1   M    OO          S  Lhasa Apso            6     0         1         0   \n",
       "2   F    OL          S  Lhasa Apso            6     0         1         0   \n",
       "3   F    OO          S  Lhasa Apso            6     1         0         0   \n",
       "4   F    OL          S  Lhasa Apso            6     1         0         0   \n",
       "\n",
       "   weight_D1   IgG_dam  age_dam  \n",
       "0        223  8.412161        6  \n",
       "1        167  6.001322        3  \n",
       "2        165  6.001322        3  \n",
       "3        182  6.001322        3  \n",
       "4        178  6.001322        3  "
      ]
     },
     "execution_count": 21,
     "metadata": {},
     "output_type": "execute_result"
    }
   ],
   "source": [
    "#Suppression de toutes nos features contenant des valeurs nulles.\n",
    "df.dropna(axis=1, inplace=True)\n",
    "df.head()"
   ]
  },
  {
   "cell_type": "code",
   "execution_count": 22,
   "id": "d207d0c5",
   "metadata": {},
   "outputs": [
    {
     "data": {
      "text/html": [
       "<div>\n",
       "<style scoped>\n",
       "    .dataframe tbody tr th:only-of-type {\n",
       "        vertical-align: middle;\n",
       "    }\n",
       "\n",
       "    .dataframe tbody tr th {\n",
       "        vertical-align: top;\n",
       "    }\n",
       "\n",
       "    .dataframe thead th {\n",
       "        text-align: right;\n",
       "    }\n",
       "</style>\n",
       "<table border=\"1\" class=\"dataframe\">\n",
       "  <thead>\n",
       "    <tr style=\"text-align: right;\">\n",
       "      <th></th>\n",
       "      <th>Dead</th>\n",
       "      <th>sex</th>\n",
       "      <th>group</th>\n",
       "      <th>breed_size</th>\n",
       "      <th>Breed</th>\n",
       "      <th>Litter_size</th>\n",
       "      <th>Diarr_1m</th>\n",
       "      <th>Diarr_2m</th>\n",
       "      <th>weight_D1</th>\n",
       "      <th>IgG_dam</th>\n",
       "      <th>age_dam</th>\n",
       "    </tr>\n",
       "  </thead>\n",
       "  <tbody>\n",
       "    <tr>\n",
       "      <th>0</th>\n",
       "      <td>1</td>\n",
       "      <td>M</td>\n",
       "      <td>EL</td>\n",
       "      <td>S</td>\n",
       "      <td>Poodle</td>\n",
       "      <td>1</td>\n",
       "      <td>0</td>\n",
       "      <td>0</td>\n",
       "      <td>223</td>\n",
       "      <td>8.412161</td>\n",
       "      <td>6</td>\n",
       "    </tr>\n",
       "    <tr>\n",
       "      <th>1</th>\n",
       "      <td>0</td>\n",
       "      <td>M</td>\n",
       "      <td>OO</td>\n",
       "      <td>S</td>\n",
       "      <td>Lhasa Apso</td>\n",
       "      <td>6</td>\n",
       "      <td>1</td>\n",
       "      <td>0</td>\n",
       "      <td>167</td>\n",
       "      <td>6.001322</td>\n",
       "      <td>3</td>\n",
       "    </tr>\n",
       "    <tr>\n",
       "      <th>2</th>\n",
       "      <td>0</td>\n",
       "      <td>F</td>\n",
       "      <td>OL</td>\n",
       "      <td>S</td>\n",
       "      <td>Lhasa Apso</td>\n",
       "      <td>6</td>\n",
       "      <td>1</td>\n",
       "      <td>0</td>\n",
       "      <td>165</td>\n",
       "      <td>6.001322</td>\n",
       "      <td>3</td>\n",
       "    </tr>\n",
       "    <tr>\n",
       "      <th>3</th>\n",
       "      <td>1</td>\n",
       "      <td>F</td>\n",
       "      <td>OO</td>\n",
       "      <td>S</td>\n",
       "      <td>Lhasa Apso</td>\n",
       "      <td>6</td>\n",
       "      <td>0</td>\n",
       "      <td>0</td>\n",
       "      <td>182</td>\n",
       "      <td>6.001322</td>\n",
       "      <td>3</td>\n",
       "    </tr>\n",
       "    <tr>\n",
       "      <th>4</th>\n",
       "      <td>1</td>\n",
       "      <td>F</td>\n",
       "      <td>OL</td>\n",
       "      <td>S</td>\n",
       "      <td>Lhasa Apso</td>\n",
       "      <td>6</td>\n",
       "      <td>0</td>\n",
       "      <td>0</td>\n",
       "      <td>178</td>\n",
       "      <td>6.001322</td>\n",
       "      <td>3</td>\n",
       "    </tr>\n",
       "  </tbody>\n",
       "</table>\n",
       "</div>"
      ],
      "text/plain": [
       "   Dead sex group breed_size       Breed  Litter_size  Diarr_1m  Diarr_2m  \\\n",
       "0     1   M    EL          S      Poodle            1         0         0   \n",
       "1     0   M    OO          S  Lhasa Apso            6         1         0   \n",
       "2     0   F    OL          S  Lhasa Apso            6         1         0   \n",
       "3     1   F    OO          S  Lhasa Apso            6         0         0   \n",
       "4     1   F    OL          S  Lhasa Apso            6         0         0   \n",
       "\n",
       "   weight_D1   IgG_dam  age_dam  \n",
       "0        223  8.412161        6  \n",
       "1        167  6.001322        3  \n",
       "2        165  6.001322        3  \n",
       "3        182  6.001322        3  \n",
       "4        178  6.001322        3  "
      ]
     },
     "execution_count": 22,
     "metadata": {},
     "output_type": "execute_result"
    }
   ],
   "source": [
    "first_column = df.pop('Dead') \n",
    "df.insert(0, 'Dead', first_column) \n",
    "df.head()"
   ]
  },
  {
   "cell_type": "code",
   "execution_count": 23,
   "id": "07c0ddba",
   "metadata": {},
   "outputs": [],
   "source": [
    "df['sex']=pd.Categorical(df['sex'],ordered=False)\n",
    "df['group']=pd.Categorical(df['group'],ordered=False)\n",
    "df['breed_size']=pd.Categorical(df['breed_size'],ordered=False)\n",
    "df['Breed']=pd.Categorical(df['Breed'],ordered=False)"
   ]
  },
  {
   "cell_type": "code",
   "execution_count": 24,
   "id": "6ec2850b",
   "metadata": {},
   "outputs": [],
   "source": [
    "#Labélisation de nos données catégorielles en utilisant la méthode LabelEncoder\n",
    "from sklearn.preprocessing import LabelEncoder\n",
    "label_encoder = LabelEncoder()\n",
    "\n",
    "df['group'] = label_encoder.fit_transform(df['group'])\n",
    "df['Breed'] = label_encoder.fit_transform(df['Breed'])\n",
    "df['breed_size'] = label_encoder.fit_transform(df['breed_size'])\n",
    "\n",
    "df['sex'] = df['sex'].replace(to_replace={'M':1,'F':0})"
   ]
  },
  {
   "cell_type": "code",
   "execution_count": 25,
   "id": "dcdaaa7f",
   "metadata": {
    "scrolled": true
   },
   "outputs": [
    {
     "name": "stdout",
     "output_type": "stream",
     "text": [
      "Valeurs propres : \n",
      " [2.37322277 1.69221367 1.24798994 1.04539262 0.95322505 0.86244558\n",
      " 0.6671782  0.543512   0.45459651 0.16022366]\n",
      "Proportion de variance : \n",
      " [0.23732228 0.16922137 0.12479899 0.10453926 0.0953225  0.08624456\n",
      " 0.06671782 0.0543512  0.04545965 0.01602237]\n"
     ]
    }
   ],
   "source": [
    "X = df.drop('Dead', axis=1)\n",
    "\n",
    "n = X.shape[0]\n",
    "p = X.shape[1]\n",
    "sc = StandardScaler()\n",
    "Z = sc.fit_transform(X)\n",
    "acp = PCA(svd_solver='full')\n",
    "coord = acp.fit_transform(Z)\n",
    "#valeur corrigée\n",
    "eigval = (n-1)/n*acp.explained_variance_\n",
    "print('Valeurs propres : \\n', eigval)\n",
    "# proportion de variance expliquée\n",
    "print('Proportion de variance : \\n', acp.explained_variance_ratio_)"
   ]
  },
  {
   "cell_type": "code",
   "execution_count": 26,
   "id": "df1f6c18",
   "metadata": {
    "scrolled": true
   },
   "outputs": [
    {
     "name": "stdout",
     "output_type": "stream",
     "text": [
      "[2.38734909 1.70228637 1.25541845 1.0516152  0.95889901 0.86757919\n",
      " 0.6711495  0.54674719 0.45730244 0.16117737]\n",
      "[0.23732228 0.16922137 0.12479899 0.10453926 0.0953225  0.08624456\n",
      " 0.06671782 0.0543512  0.04545965 0.01602237]\n"
     ]
    }
   ],
   "source": [
    "print(acp.explained_variance_)\n",
    "print(acp.explained_variance_ratio_)"
   ]
  },
  {
   "cell_type": "code",
   "execution_count": 27,
   "id": "fdaf09b9",
   "metadata": {
    "scrolled": true
   },
   "outputs": [
    {
     "data": {
      "text/html": [
       "<div>\n",
       "<style scoped>\n",
       "    .dataframe tbody tr th:only-of-type {\n",
       "        vertical-align: middle;\n",
       "    }\n",
       "\n",
       "    .dataframe tbody tr th {\n",
       "        vertical-align: top;\n",
       "    }\n",
       "\n",
       "    .dataframe thead th {\n",
       "        text-align: right;\n",
       "    }\n",
       "</style>\n",
       "<table border=\"1\" class=\"dataframe\">\n",
       "  <thead>\n",
       "    <tr style=\"text-align: right;\">\n",
       "      <th></th>\n",
       "      <th>Dimension</th>\n",
       "      <th>Variance expliquée</th>\n",
       "      <th>% variance expliquée</th>\n",
       "      <th>% cum. var. expliquée</th>\n",
       "    </tr>\n",
       "  </thead>\n",
       "  <tbody>\n",
       "    <tr>\n",
       "      <th>0</th>\n",
       "      <td>Dim1</td>\n",
       "      <td>2.387349</td>\n",
       "      <td>24.0</td>\n",
       "      <td>24.0</td>\n",
       "    </tr>\n",
       "    <tr>\n",
       "      <th>1</th>\n",
       "      <td>Dim2</td>\n",
       "      <td>1.702286</td>\n",
       "      <td>17.0</td>\n",
       "      <td>41.0</td>\n",
       "    </tr>\n",
       "    <tr>\n",
       "      <th>2</th>\n",
       "      <td>Dim3</td>\n",
       "      <td>1.255418</td>\n",
       "      <td>12.0</td>\n",
       "      <td>53.0</td>\n",
       "    </tr>\n",
       "    <tr>\n",
       "      <th>3</th>\n",
       "      <td>Dim4</td>\n",
       "      <td>1.051615</td>\n",
       "      <td>10.0</td>\n",
       "      <td>64.0</td>\n",
       "    </tr>\n",
       "    <tr>\n",
       "      <th>4</th>\n",
       "      <td>Dim5</td>\n",
       "      <td>0.958899</td>\n",
       "      <td>10.0</td>\n",
       "      <td>73.0</td>\n",
       "    </tr>\n",
       "    <tr>\n",
       "      <th>5</th>\n",
       "      <td>Dim6</td>\n",
       "      <td>0.867579</td>\n",
       "      <td>9.0</td>\n",
       "      <td>82.0</td>\n",
       "    </tr>\n",
       "    <tr>\n",
       "      <th>6</th>\n",
       "      <td>Dim7</td>\n",
       "      <td>0.671149</td>\n",
       "      <td>7.0</td>\n",
       "      <td>88.0</td>\n",
       "    </tr>\n",
       "    <tr>\n",
       "      <th>7</th>\n",
       "      <td>Dim8</td>\n",
       "      <td>0.546747</td>\n",
       "      <td>5.0</td>\n",
       "      <td>94.0</td>\n",
       "    </tr>\n",
       "    <tr>\n",
       "      <th>8</th>\n",
       "      <td>Dim9</td>\n",
       "      <td>0.457302</td>\n",
       "      <td>5.0</td>\n",
       "      <td>98.0</td>\n",
       "    </tr>\n",
       "    <tr>\n",
       "      <th>9</th>\n",
       "      <td>Dim10</td>\n",
       "      <td>0.161177</td>\n",
       "      <td>2.0</td>\n",
       "      <td>100.0</td>\n",
       "    </tr>\n",
       "  </tbody>\n",
       "</table>\n",
       "</div>"
      ],
      "text/plain": [
       "  Dimension  Variance expliquée  % variance expliquée  % cum. var. expliquée\n",
       "0      Dim1            2.387349                  24.0                   24.0\n",
       "1      Dim2            1.702286                  17.0                   41.0\n",
       "2      Dim3            1.255418                  12.0                   53.0\n",
       "3      Dim4            1.051615                  10.0                   64.0\n",
       "4      Dim5            0.958899                  10.0                   73.0\n",
       "5      Dim6            0.867579                   9.0                   82.0\n",
       "6      Dim7            0.671149                   7.0                   88.0\n",
       "7      Dim8            0.546747                   5.0                   94.0\n",
       "8      Dim9            0.457302                   5.0                   98.0\n",
       "9     Dim10            0.161177                   2.0                  100.0"
      ]
     },
     "execution_count": 27,
     "metadata": {},
     "output_type": "execute_result"
    }
   ],
   "source": [
    "eig = pd.DataFrame(\n",
    "    {\n",
    "        \"Dimension\" : [\"Dim\" + str(x + 1) for x in range(10)], \n",
    "        \"Variance expliquée\" : acp.explained_variance_,\n",
    "        \"% variance expliquée\" : np.round(acp.explained_variance_ratio_ * 100),\n",
    "        \"% cum. var. expliquée\" : np.round(np.cumsum(acp.explained_variance_ratio_) * 100)\n",
    "    }\n",
    ")\n",
    "eig"
   ]
  },
  {
   "cell_type": "code",
   "execution_count": 28,
   "id": "9eaeeab0",
   "metadata": {
    "scrolled": true
   },
   "outputs": [
    {
     "data": {
      "image/png": "[encoded data removed]",
      "text/plain": [
       "<Figure size 432x288 with 1 Axes>"
      ]
     },
     "metadata": {
      "needs_background": "light"
     },
     "output_type": "display_data"
    }
   ],
   "source": [
    "eig.plot.bar(x = \"Dimension\", y = \"% variance expliquée\") # permet un diagramme en barres\n",
    "plt.text(5, 11, \"10%\") # ajout de texte\n",
    "plt.axhline(y = 10, linewidth = .5, color = \"dimgray\", linestyle = \"--\") \n",
    "plt.title(\"Pourcentage de variance expliquée par dimension\")\n",
    "plt.show()"
   ]
  },
  {
   "cell_type": "code",
   "execution_count": 29,
   "id": "c6670671",
   "metadata": {
    "scrolled": true
   },
   "outputs": [
    {
     "data": {
      "text/html": [
       "<div>\n",
       "<style scoped>\n",
       "    .dataframe tbody tr th:only-of-type {\n",
       "        vertical-align: middle;\n",
       "    }\n",
       "\n",
       "    .dataframe tbody tr th {\n",
       "        vertical-align: top;\n",
       "    }\n",
       "\n",
       "    .dataframe thead th {\n",
       "        text-align: right;\n",
       "    }\n",
       "</style>\n",
       "<table border=\"1\" class=\"dataframe\">\n",
       "  <thead>\n",
       "    <tr style=\"text-align: right;\">\n",
       "      <th></th>\n",
       "      <th>Dim1</th>\n",
       "      <th>Dim2</th>\n",
       "      <th>Dim3</th>\n",
       "      <th>Dim4</th>\n",
       "    </tr>\n",
       "  </thead>\n",
       "  <tbody>\n",
       "    <tr>\n",
       "      <th>0</th>\n",
       "      <td>-1.158247</td>\n",
       "      <td>-1.732373</td>\n",
       "      <td>0.271511</td>\n",
       "      <td>-1.194195</td>\n",
       "    </tr>\n",
       "    <tr>\n",
       "      <th>1</th>\n",
       "      <td>-0.867437</td>\n",
       "      <td>1.720925</td>\n",
       "      <td>-1.486062</td>\n",
       "      <td>-0.513442</td>\n",
       "    </tr>\n",
       "    <tr>\n",
       "      <th>2</th>\n",
       "      <td>-0.558520</td>\n",
       "      <td>1.946060</td>\n",
       "      <td>-1.300781</td>\n",
       "      <td>0.601246</td>\n",
       "    </tr>\n",
       "    <tr>\n",
       "      <th>3</th>\n",
       "      <td>-1.027741</td>\n",
       "      <td>0.865669</td>\n",
       "      <td>-0.934039</td>\n",
       "      <td>0.931362</td>\n",
       "    </tr>\n",
       "    <tr>\n",
       "      <th>4</th>\n",
       "      <td>-0.910039</td>\n",
       "      <td>0.750042</td>\n",
       "      <td>-0.478610</td>\n",
       "      <td>0.608135</td>\n",
       "    </tr>\n",
       "  </tbody>\n",
       "</table>\n",
       "</div>"
      ],
      "text/plain": [
       "       Dim1      Dim2      Dim3      Dim4\n",
       "0 -1.158247 -1.732373  0.271511 -1.194195\n",
       "1 -0.867437  1.720925 -1.486062 -0.513442\n",
       "2 -0.558520  1.946060 -1.300781  0.601246\n",
       "3 -1.027741  0.865669 -0.934039  0.931362\n",
       "4 -0.910039  0.750042 -0.478610  0.608135"
      ]
     },
     "execution_count": 29,
     "metadata": {},
     "output_type": "execute_result"
    }
   ],
   "source": [
    "# Transformation en DataFrame pandas\n",
    "pca_df = pd.DataFrame({\n",
    "    \"Dim1\" : coord[:,0], \n",
    "    \"Dim2\" : coord[:,1],\n",
    "    \"Dim3\" : coord[:,2],\n",
    "    \"Dim4\" : coord[:,3]\n",
    "})\n",
    "\n",
    "# Résultat (premières lignes)\n",
    "pca_df.head()"
   ]
  },
  {
   "cell_type": "code",
   "execution_count": 30,
   "id": "b9a112f3",
   "metadata": {},
   "outputs": [
    {
     "name": "stderr",
     "output_type": "stream",
     "text": [
      "C:\\Users\\Julia Vilas\\anaconda3\\lib\\site-packages\\seaborn\\axisgrid.py:316: UserWarning: The `size` parameter has been renamed to `height`; please update your code.\n",
      "  warnings.warn(msg, UserWarning)\n"
     ]
    },
    {
     "data": {
      "image/png": "[encoded data removed]",
      "text/plain": [
       "<Figure size 474.375x432 with 1 Axes>"
      ]
     },
     "metadata": {
      "needs_background": "light"
     },
     "output_type": "display_data"
    }
   ],
   "source": [
    "x = df.iloc[:,1:10].values\n",
    "y = df.iloc[:,0].values\n",
    "\n",
    "x_df = pd.DataFrame(x,columns=df.columns[1:10])\n",
    "y_df = pd.DataFrame(y, columns=['Dead'])\n",
    "\n",
    "pca = PCA(n_components=4).fit_transform(Z) # pca output is an array\n",
    "pca_df = pd.DataFrame(pca,columns=['pca_1','pca_2','pca_3','pca_4']) # transforming back to df\n",
    "pca_Y = pd.concat([pca_df, y_df],axis=1)\n",
    "\n",
    "import matplotlib.pyplot as plt\n",
    "import seaborn as sns\n",
    "sns.FacetGrid(pca_Y, hue=\"Dead\", palette=\"Set1\", size=6).map(plt.scatter, \"pca_1\", \"pca_2\").add_legend()\n",
    "plt.xlabel(\"Dimension 1 (24%)\")\n",
    "plt.ylabel(\"Dimension 2 (17%)\")\n",
    "plt.title(\"Premier plan factoriel (41%)\")\n",
    "plt.show()"
   ]
  },
  {
   "cell_type": "code",
   "execution_count": 31,
   "id": "371a08c8",
   "metadata": {},
   "outputs": [
    {
     "data": {
      "image/png": "[encoded data removed]",
      "text/plain": [
       "<Figure size 864x864 with 1 Axes>"
      ]
     },
     "metadata": {
      "needs_background": "light"
     },
     "output_type": "display_data"
    }
   ],
   "source": [
    "#positionnement des individus dans le premier plan\n",
    "fig, axes = plt.subplots(figsize=(12,12))\n",
    "axes.set_xlim(-3,5) #même limites en abscisse\n",
    "axes.set_ylim(-3,4) #et en ordonnée\n",
    "#placement des étiquettes des observations\n",
    "for i in range(n):\n",
    "    plt.annotate(X.index[i],(pca[i,0],pca[i,1]))\n",
    "#ajouter les axes\n",
    "plt.plot([-3,5],[0,0],color='silver',linestyle='-',linewidth=1)\n",
    "plt.xlabel(\"pca_1\")\n",
    "plt.ylabel(\"pca_2\")\n",
    "plt.plot([0,0],[-3,4],color='silver',linestyle='-',linewidth=1)\n",
    "#affichage\n",
    "plt.title(\"Représentation des chiots par leurs coordonnées factorielles\")\n",
    "plt.show()"
   ]
  },
  {
   "cell_type": "code",
   "execution_count": 32,
   "id": "de8951c8",
   "metadata": {},
   "outputs": [
    {
     "data": {
      "image/png": "[encoded data removed]",
      "text/plain": [
       "<Figure size 432x288 with 1 Axes>"
      ]
     },
     "metadata": {
      "needs_background": "light"
     },
     "output_type": "display_data"
    }
   ],
   "source": [
    "plt.plot(np.arange(1,p+1),eigval)\n",
    "plt.title(\"Scree plot\")\n",
    "plt.ylabel(\"Valeurs propres\")\n",
    "plt.xlabel(\"Nombre de features\")\n",
    "plt.show()"
   ]
  },
  {
   "cell_type": "code",
   "execution_count": 33,
   "id": "0eacac0e",
   "metadata": {},
   "outputs": [
    {
     "data": {
      "image/png": "[encoded data removed]",
      "text/plain": [
       "<Figure size 432x288 with 1 Axes>"
      ]
     },
     "metadata": {
      "needs_background": "light"
     },
     "output_type": "display_data"
    }
   ],
   "source": [
    "plt.plot(np.arange(1,p+1),np.cumsum(acp.explained_variance_ratio_))\n",
    "plt.title(\"Ratio de la variance expliquée\")\n",
    "plt.ylabel(\"Ratio\")\n",
    "plt.xlabel(\"Nombre de features\")\n",
    "plt.show()"
   ]
  },
  {
   "cell_type": "code",
   "execution_count": 34,
   "id": "7bb50707",
   "metadata": {},
   "outputs": [
    {
     "name": "stdout",
     "output_type": "stream",
     "text": [
      "   Val.Propre    Seuils\n",
      "0    2.373223  2.928968\n",
      "1    1.692214  1.928968\n",
      "2    1.247990  1.428968\n",
      "3    1.045393  1.095635\n",
      "4    0.953225  0.845635\n",
      "5    0.862446  0.645635\n",
      "6    0.667178  0.478968\n",
      "7    0.543512  0.336111\n",
      "8    0.454597  0.211111\n",
      "9    0.160224  0.100000\n"
     ]
    }
   ],
   "source": [
    "# seuils pour test des bâtons brisés\n",
    "bs = 1/np.arange(p,0,-1)\n",
    "bs = np.cumsum(bs)\n",
    "bs = bs[::-1]\n",
    "print(pd.DataFrame({'Val.Propre':eigval,'Seuils':bs}))"
   ]
  },
  {
   "cell_type": "code",
   "execution_count": 35,
   "id": "35f7a3ab",
   "metadata": {},
   "outputs": [
    {
     "name": "stdout",
     "output_type": "stream",
     "text": [
      "[[-0.13966371 -0.22366125  0.14987913 -0.73577741 -0.33965704 -0.48116701\n",
      "  -0.01312515  0.13498074  0.03644128  0.00537699]\n",
      " [-0.23583948  0.17711905 -0.5629017   0.37287819 -0.05635285 -0.61187423\n",
      "  -0.25873422 -0.0827625  -0.06123437 -0.04476299]\n",
      " [-0.86816897  0.06449115  0.06231117 -0.01351062  0.24024705  0.09130711\n",
      "  -0.02623529  0.30357438  0.11998643 -0.25448033]\n",
      " [-0.70675454  0.2573015   0.16527866 -0.11551336 -0.05259696 -0.03235478\n",
      "   0.32351617 -0.47938166 -0.22984974 -0.0501988 ]\n",
      " [ 0.13461516  0.48870003  0.5743209   0.15999357 -0.41591818  0.06675614\n",
      "  -0.38264489  0.07444919 -0.2317835  -0.06693947]\n",
      " [ 0.25927321  0.61930449 -0.37720435 -0.00815047 -0.2631648   0.02814789\n",
      "   0.45888989  0.32260049 -0.14774915 -0.01899911]\n",
      " [ 0.29461719  0.42299324  0.057379   -0.34080254  0.70759079 -0.14721074\n",
      "  -0.13062782  0.0578231  -0.26694733  0.02854764]\n",
      " [ 0.88537718 -0.24819762 -0.11140243 -0.11772688 -0.0208388  -0.00847737\n",
      "   0.04362152 -0.20001422 -0.02506209 -0.29187723]\n",
      " [ 0.26912016  0.04396153  0.62234125  0.38771773  0.17478561 -0.46739981\n",
      "   0.32900776  0.05974322  0.16468356 -0.00770937]\n",
      " [-0.12812363 -0.82196792  0.04826018  0.21322476  0.01687562 -0.04118099\n",
      "   0.10247884  0.19986541 -0.45577208  0.00151012]]\n"
     ]
    }
   ],
   "source": [
    "#racine carrée des valeurs propres\n",
    "sqrt_eigval = np.sqrt(eigval)\n",
    "\n",
    "#corrélation des variables avec les axes\n",
    "corvar = np.zeros((p,p))\n",
    "for k in range(p):\n",
    "    corvar[:,k] = acp.components_[k,:] * sqrt_eigval[k]\n",
    "#afficher la matrice des corrélations variables x facteurs\n",
    "print(corvar)\n",
    "# Les variables sont  en ligne, les facteurs en colonne :"
   ]
  },
  {
   "cell_type": "code",
   "execution_count": 36,
   "id": "cfdf0f91",
   "metadata": {},
   "outputs": [
    {
     "data": {
      "image/png": "[encoded data removed]",
      "text/plain": [
       "<Figure size 576x576 with 1 Axes>"
      ]
     },
     "metadata": {
      "needs_background": "light"
     },
     "output_type": "display_data"
    }
   ],
   "source": [
    "#cercle des corrélations\n",
    "fig, axes = plt.subplots(figsize=(8,8))\n",
    "axes.set_xlim(-1.5,1.5)\n",
    "axes.set_ylim(-1.5,1.5)\n",
    "#affichage des étiquettes (noms des variables)\n",
    "for j in range(p):\n",
    "    plt.annotate(X.columns[j],(corvar[j,0],corvar[j,1]))\n",
    "#ajouter les axes\n",
    "plt.plot([-1.5,1.5],[0,0],color='silver',linestyle='-',linewidth=1)\n",
    "plt.plot([0,0],[-1.5,1.5],color='silver',linestyle='-',linewidth=1)\n",
    "#ajouter un cercle\n",
    "cercle = plt.Circle((0,0),1,color='blue',fill=False)\n",
    "axes.add_artist(cercle)\n",
    "#affichage\n",
    "plt.title(\"Cercle des corrélations\")\n",
    "plt.show()"
   ]
  },
  {
   "cell_type": "code",
   "execution_count": 37,
   "id": "a1460bbe",
   "metadata": {},
   "outputs": [
    {
     "name": "stdout",
     "output_type": "stream",
     "text": [
      "      ID        d_i\n",
      "0      0  10.901669\n",
      "1      1   9.380376\n",
      "2      2   7.977025\n",
      "3      3   5.756386\n",
      "4      4   4.252240\n",
      "..   ...        ...\n",
      "164  164   7.739700\n",
      "165  165   9.258533\n",
      "166  166  11.285657\n",
      "167  167  18.938989\n",
      "168  168   7.824878\n",
      "\n",
      "[169 rows x 2 columns]\n"
     ]
    }
   ],
   "source": [
    "di = np.sum(Z**2,axis=1)\n",
    "print(pd.DataFrame({'ID':X.index,'d_i':di}))"
   ]
  },
  {
   "cell_type": "code",
   "execution_count": 38,
   "id": "9f375e55",
   "metadata": {},
   "outputs": [
    {
     "name": "stdout",
     "output_type": "stream",
     "text": [
      "      id    COS2_1    COS2_2\n",
      "0      0  0.123058  0.275290\n",
      "1      1  0.080215  0.315721\n",
      "2      2  0.039105  0.474757\n",
      "3      3  0.183492  0.130183\n",
      "4      4  0.194761  0.132298\n",
      "..   ...       ...       ...\n",
      "164  164  0.226063  0.085332\n",
      "165  165  0.184763  0.011547\n",
      "166  166  0.123812  0.248438\n",
      "167  167  0.004933  0.421270\n",
      "168  168  0.431641  0.054992\n",
      "\n",
      "[169 rows x 3 columns]\n"
     ]
    }
   ],
   "source": [
    "cos2 = coord**2\n",
    "for j in range(p):\n",
    " cos2[:,j] = cos2[:,j]/di\n",
    "print(pd.DataFrame({'id':X.index,'COS2_1':cos2[:,0],'COS2_2':cos2[:,1]}))"
   ]
  },
  {
   "cell_type": "code",
   "execution_count": 39,
   "id": "cf7c742b",
   "metadata": {},
   "outputs": [
    {
     "name": "stdout",
     "output_type": "stream",
     "text": [
      "      id     CTR_1     CTR_2\n",
      "0      0  0.003345  0.010494\n",
      "1      1  0.001876  0.010356\n",
      "2      2  0.000778  0.013243\n",
      "3      3  0.002634  0.002620\n",
      "4      4  0.002065  0.001967\n",
      "..   ...       ...       ...\n",
      "164  164  0.004362  0.002309\n",
      "165  165  0.004265  0.000374\n",
      "166  166  0.003484  0.009804\n",
      "167  167  0.000233  0.027898\n",
      "168  168  0.008421  0.001505\n",
      "\n",
      "[169 rows x 3 columns]\n"
     ]
    }
   ],
   "source": [
    "ctr = coord**2\n",
    "for j in range(p):\n",
    " ctr[:,j] = ctr[:,j]/(n*eigval[j])\n",
    " \n",
    "print(pd.DataFrame({'id':X.index,'CTR_1':ctr[:,0],'CTR_2':ctr[:,1]}))"
   ]
  }
 ],
 "metadata": {
  "kernelspec": {
   "display_name": "Python 3",
   "language": "python",
   "name": "python3"
  },
  "language_info": {
   "codemirror_mode": {
    "name": "ipython",
    "version": 3
   },
   "file_extension": ".py",
   "mimetype": "text/x-python",
   "name": "python",
   "nbconvert_exporter": "python",
   "pygments_lexer": "ipython3",
   "version": "3.8.8"
  }
 },
 "nbformat": 4,
 "nbformat_minor": 5
}
