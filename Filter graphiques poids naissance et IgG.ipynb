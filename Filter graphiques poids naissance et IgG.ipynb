{
 "cells": [
  {
   "cell_type": "code",
   "execution_count": 1,
   "id": "228a2543",
   "metadata": {},
   "outputs": [],
   "source": [
    "import pandas as pd\n",
    "import numpy as np\n",
    "import seaborn as sns\n",
    "import matplotlib.pyplot as plt"
   ]
  },
  {
   "cell_type": "code",
   "execution_count": 2,
   "id": "ab00d2bb",
   "metadata": {},
   "outputs": [
    {
     "data": {
      "text/html": [
       "<div>\n",
       "<style scoped>\n",
       "    .dataframe tbody tr th:only-of-type {\n",
       "        vertical-align: middle;\n",
       "    }\n",
       "\n",
       "    .dataframe tbody tr th {\n",
       "        vertical-align: top;\n",
       "    }\n",
       "\n",
       "    .dataframe thead th {\n",
       "        text-align: right;\n",
       "    }\n",
       "</style>\n",
       "<table border=\"1\" class=\"dataframe\">\n",
       "  <thead>\n",
       "    <tr style=\"text-align: right;\">\n",
       "      <th></th>\n",
       "      <th>ID_litter</th>\n",
       "      <th>Sex</th>\n",
       "      <th>Group</th>\n",
       "      <th>Breed_size</th>\n",
       "      <th>Litter_size</th>\n",
       "      <th>Dead</th>\n",
       "      <th>Dead_age</th>\n",
       "      <th>Diarr_1m</th>\n",
       "      <th>Diarr_2m</th>\n",
       "      <th>Dam_sep</th>\n",
       "      <th>Weight_D1</th>\n",
       "      <th>IgG_dam</th>\n",
       "      <th>Age_dam</th>\n",
       "      <th>IgG_milk_mean</th>\n",
       "      <th>IgG_D2</th>\n",
       "    </tr>\n",
       "  </thead>\n",
       "  <tbody>\n",
       "    <tr>\n",
       "      <th>0</th>\n",
       "      <td>10L</td>\n",
       "      <td>M</td>\n",
       "      <td>EL</td>\n",
       "      <td>S</td>\n",
       "      <td>1</td>\n",
       "      <td>1</td>\n",
       "      <td>1.0</td>\n",
       "      <td>0</td>\n",
       "      <td>0</td>\n",
       "      <td>NaN</td>\n",
       "      <td>223</td>\n",
       "      <td>8.412161</td>\n",
       "      <td>6</td>\n",
       "      <td>23.842138</td>\n",
       "      <td>NaN</td>\n",
       "    </tr>\n",
       "    <tr>\n",
       "      <th>1</th>\n",
       "      <td>11L</td>\n",
       "      <td>M</td>\n",
       "      <td>OO</td>\n",
       "      <td>S</td>\n",
       "      <td>6</td>\n",
       "      <td>0</td>\n",
       "      <td>NaN</td>\n",
       "      <td>1</td>\n",
       "      <td>0</td>\n",
       "      <td>9.0</td>\n",
       "      <td>167</td>\n",
       "      <td>6.001322</td>\n",
       "      <td>3</td>\n",
       "      <td>25.937648</td>\n",
       "      <td>5.480288</td>\n",
       "    </tr>\n",
       "    <tr>\n",
       "      <th>2</th>\n",
       "      <td>11L</td>\n",
       "      <td>F</td>\n",
       "      <td>OL</td>\n",
       "      <td>S</td>\n",
       "      <td>6</td>\n",
       "      <td>0</td>\n",
       "      <td>NaN</td>\n",
       "      <td>1</td>\n",
       "      <td>0</td>\n",
       "      <td>9.0</td>\n",
       "      <td>165</td>\n",
       "      <td>6.001322</td>\n",
       "      <td>3</td>\n",
       "      <td>25.937648</td>\n",
       "      <td>1.908716</td>\n",
       "    </tr>\n",
       "    <tr>\n",
       "      <th>3</th>\n",
       "      <td>11L</td>\n",
       "      <td>F</td>\n",
       "      <td>OO</td>\n",
       "      <td>S</td>\n",
       "      <td>6</td>\n",
       "      <td>1</td>\n",
       "      <td>2.0</td>\n",
       "      <td>0</td>\n",
       "      <td>0</td>\n",
       "      <td>NaN</td>\n",
       "      <td>182</td>\n",
       "      <td>6.001322</td>\n",
       "      <td>3</td>\n",
       "      <td>25.937648</td>\n",
       "      <td>NaN</td>\n",
       "    </tr>\n",
       "    <tr>\n",
       "      <th>4</th>\n",
       "      <td>11L</td>\n",
       "      <td>F</td>\n",
       "      <td>OL</td>\n",
       "      <td>S</td>\n",
       "      <td>6</td>\n",
       "      <td>1</td>\n",
       "      <td>5.0</td>\n",
       "      <td>0</td>\n",
       "      <td>0</td>\n",
       "      <td>NaN</td>\n",
       "      <td>178</td>\n",
       "      <td>6.001322</td>\n",
       "      <td>3</td>\n",
       "      <td>25.937648</td>\n",
       "      <td>1.281405</td>\n",
       "    </tr>\n",
       "  </tbody>\n",
       "</table>\n",
       "</div>"
      ],
      "text/plain": [
       "  ID_litter Sex Group Breed_size  Litter_size  Dead  Dead_age  Diarr_1m  \\\n",
       "0       10L   M    EL          S            1     1       1.0         0   \n",
       "1       11L   M    OO          S            6     0       NaN         1   \n",
       "2       11L   F    OL          S            6     0       NaN         1   \n",
       "3       11L   F    OO          S            6     1       2.0         0   \n",
       "4       11L   F    OL          S            6     1       5.0         0   \n",
       "\n",
       "   Diarr_2m  Dam_sep  Weight_D1   IgG_dam  Age_dam  IgG_milk_mean    IgG_D2  \n",
       "0         0      NaN        223  8.412161        6      23.842138       NaN  \n",
       "1         0      9.0        167  6.001322        3      25.937648  5.480288  \n",
       "2         0      9.0        165  6.001322        3      25.937648  1.908716  \n",
       "3         0      NaN        182  6.001322        3      25.937648       NaN  \n",
       "4         0      NaN        178  6.001322        3      25.937648  1.281405  "
      ]
     },
     "execution_count": 2,
     "metadata": {},
     "output_type": "execute_result"
    }
   ],
   "source": [
    "df=pd.read_excel('Data.xlsx', usecols=[1,2,3,4,6,7,8,9,10,11,13,25,26,27,28], names=[\"ID_litter\",\"Sex\",\"Group\",\"Breed_size\",\"Litter_size\",\"Dead\",\"Dead_age\",\"Diarr_1m\",\"Diarr_2m\",\"Dam_sep\",\"Weight_D1\",\"IgG_dam\",\"Age_dam\",\"IgG_milk_mean\",\"IgG_D2\"])\n",
    "df.head()"
   ]
  },
  {
   "cell_type": "code",
   "execution_count": 3,
   "id": "9e1ec3f4",
   "metadata": {
    "scrolled": true
   },
   "outputs": [
    {
     "data": {
      "text/html": [
       "<div>\n",
       "<style scoped>\n",
       "    .dataframe tbody tr th:only-of-type {\n",
       "        vertical-align: middle;\n",
       "    }\n",
       "\n",
       "    .dataframe tbody tr th {\n",
       "        vertical-align: top;\n",
       "    }\n",
       "\n",
       "    .dataframe thead th {\n",
       "        text-align: right;\n",
       "    }\n",
       "</style>\n",
       "<table border=\"1\" class=\"dataframe\">\n",
       "  <thead>\n",
       "    <tr style=\"text-align: right;\">\n",
       "      <th></th>\n",
       "      <th>ID_litter</th>\n",
       "      <th>Sex</th>\n",
       "      <th>Group</th>\n",
       "      <th>Breed_size</th>\n",
       "      <th>Litter_size</th>\n",
       "      <th>Dead</th>\n",
       "      <th>Dead_age</th>\n",
       "      <th>Diarr_1m</th>\n",
       "      <th>Diarr_2m</th>\n",
       "      <th>Dam_sep</th>\n",
       "      <th>Weight_D1</th>\n",
       "      <th>IgG_dam</th>\n",
       "      <th>Age_dam</th>\n",
       "      <th>IgG_milk_mean</th>\n",
       "      <th>IgG_D2</th>\n",
       "    </tr>\n",
       "  </thead>\n",
       "  <tbody>\n",
       "    <tr>\n",
       "      <th>0</th>\n",
       "      <td>10L</td>\n",
       "      <td>M</td>\n",
       "      <td>EL</td>\n",
       "      <td>S</td>\n",
       "      <td>1</td>\n",
       "      <td>1</td>\n",
       "      <td>1.0</td>\n",
       "      <td>0</td>\n",
       "      <td>0</td>\n",
       "      <td>NaN</td>\n",
       "      <td>223</td>\n",
       "      <td>8.412161</td>\n",
       "      <td>6</td>\n",
       "      <td>23.842138</td>\n",
       "      <td>NaN</td>\n",
       "    </tr>\n",
       "    <tr>\n",
       "      <th>1</th>\n",
       "      <td>11L</td>\n",
       "      <td>M</td>\n",
       "      <td>OO</td>\n",
       "      <td>S</td>\n",
       "      <td>6</td>\n",
       "      <td>0</td>\n",
       "      <td>NaN</td>\n",
       "      <td>1</td>\n",
       "      <td>0</td>\n",
       "      <td>9.0</td>\n",
       "      <td>167</td>\n",
       "      <td>6.001322</td>\n",
       "      <td>3</td>\n",
       "      <td>25.937648</td>\n",
       "      <td>5.480288</td>\n",
       "    </tr>\n",
       "    <tr>\n",
       "      <th>2</th>\n",
       "      <td>11L</td>\n",
       "      <td>F</td>\n",
       "      <td>OL</td>\n",
       "      <td>S</td>\n",
       "      <td>6</td>\n",
       "      <td>0</td>\n",
       "      <td>NaN</td>\n",
       "      <td>1</td>\n",
       "      <td>0</td>\n",
       "      <td>9.0</td>\n",
       "      <td>165</td>\n",
       "      <td>6.001322</td>\n",
       "      <td>3</td>\n",
       "      <td>25.937648</td>\n",
       "      <td>1.908716</td>\n",
       "    </tr>\n",
       "    <tr>\n",
       "      <th>3</th>\n",
       "      <td>11L</td>\n",
       "      <td>F</td>\n",
       "      <td>OO</td>\n",
       "      <td>S</td>\n",
       "      <td>6</td>\n",
       "      <td>1</td>\n",
       "      <td>2.0</td>\n",
       "      <td>0</td>\n",
       "      <td>0</td>\n",
       "      <td>NaN</td>\n",
       "      <td>182</td>\n",
       "      <td>6.001322</td>\n",
       "      <td>3</td>\n",
       "      <td>25.937648</td>\n",
       "      <td>NaN</td>\n",
       "    </tr>\n",
       "    <tr>\n",
       "      <th>4</th>\n",
       "      <td>11L</td>\n",
       "      <td>F</td>\n",
       "      <td>OL</td>\n",
       "      <td>S</td>\n",
       "      <td>6</td>\n",
       "      <td>1</td>\n",
       "      <td>5.0</td>\n",
       "      <td>0</td>\n",
       "      <td>0</td>\n",
       "      <td>NaN</td>\n",
       "      <td>178</td>\n",
       "      <td>6.001322</td>\n",
       "      <td>3</td>\n",
       "      <td>25.937648</td>\n",
       "      <td>1.281405</td>\n",
       "    </tr>\n",
       "  </tbody>\n",
       "</table>\n",
       "</div>"
      ],
      "text/plain": [
       "  ID_litter Sex Group Breed_size  Litter_size  Dead  Dead_age  Diarr_1m  \\\n",
       "0       10L   M    EL          S            1     1       1.0         0   \n",
       "1       11L   M    OO          S            6     0       NaN         1   \n",
       "2       11L   F    OL          S            6     0       NaN         1   \n",
       "3       11L   F    OO          S            6     1       2.0         0   \n",
       "4       11L   F    OL          S            6     1       5.0         0   \n",
       "\n",
       "   Diarr_2m  Dam_sep  Weight_D1   IgG_dam  Age_dam  IgG_milk_mean    IgG_D2  \n",
       "0         0      NaN        223  8.412161        6      23.842138       NaN  \n",
       "1         0      9.0        167  6.001322        3      25.937648  5.480288  \n",
       "2         0      9.0        165  6.001322        3      25.937648  1.908716  \n",
       "3         0      NaN        182  6.001322        3      25.937648       NaN  \n",
       "4         0      NaN        178  6.001322        3      25.937648  1.281405  "
      ]
     },
     "execution_count": 3,
     "metadata": {},
     "output_type": "execute_result"
    }
   ],
   "source": [
    "df.head()"
   ]
  },
  {
   "cell_type": "code",
   "execution_count": 4,
   "id": "b31b9596",
   "metadata": {},
   "outputs": [
    {
     "data": {
      "text/plain": [
       "15"
      ]
     },
     "execution_count": 4,
     "metadata": {},
     "output_type": "execute_result"
    }
   ],
   "source": [
    "len(df.columns)"
   ]
  },
  {
   "cell_type": "code",
   "execution_count": 5,
   "id": "056e4dac",
   "metadata": {},
   "outputs": [
    {
     "data": {
      "text/plain": [
       "192"
      ]
     },
     "execution_count": 5,
     "metadata": {},
     "output_type": "execute_result"
    }
   ],
   "source": [
    "sum(df.isnull().values.ravel())"
   ]
  },
  {
   "cell_type": "code",
   "execution_count": 6,
   "id": "38cf84ba",
   "metadata": {},
   "outputs": [
    {
     "name": "stdout",
     "output_type": "stream",
     "text": [
      "NaN occurrences in Columns:\n",
      "ID_litter          0\n",
      "Sex                0\n",
      "Group              0\n",
      "Breed_size         0\n",
      "Litter_size        0\n",
      "Dead               0\n",
      "Dead_age         125\n",
      "Diarr_1m           0\n",
      "Diarr_2m           0\n",
      "Dam_sep           44\n",
      "Weight_D1          0\n",
      "IgG_dam            0\n",
      "Age_dam            0\n",
      "IgG_milk_mean      5\n",
      "IgG_D2            18\n",
      "dtype: int64\n"
     ]
    }
   ],
   "source": [
    "print('NaN occurrences in Columns:')\n",
    "print(df.isnull().sum(axis = 0))"
   ]
  },
  {
   "cell_type": "code",
   "execution_count": 7,
   "id": "055e6e21",
   "metadata": {},
   "outputs": [
    {
     "name": "stdout",
     "output_type": "stream",
     "text": [
      "NaN occurrences in Rows:\n",
      "0      2\n",
      "1      1\n",
      "2      1\n",
      "3      2\n",
      "4      1\n",
      "      ..\n",
      "164    1\n",
      "165    1\n",
      "166    1\n",
      "167    1\n",
      "168    1\n",
      "Length: 169, dtype: int64\n"
     ]
    }
   ],
   "source": [
    "print('NaN occurrences in Rows:')\n",
    "print(df.isnull().sum(axis = 1))"
   ]
  },
  {
   "cell_type": "code",
   "execution_count": 8,
   "id": "0b797476",
   "metadata": {},
   "outputs": [],
   "source": [
    "df.replace('X',np.NaN,inplace=True)\n",
    "df.replace('x',np.NaN,inplace=True)\n",
    "df.replace('?',np.NaN,inplace=True)"
   ]
  },
  {
   "cell_type": "code",
   "execution_count": 9,
   "id": "4045d85c",
   "metadata": {},
   "outputs": [
    {
     "data": {
      "text/plain": [
       "ID_litter         object\n",
       "Sex               object\n",
       "Group             object\n",
       "Breed_size        object\n",
       "Litter_size        int64\n",
       "Dead               int64\n",
       "Dead_age         float64\n",
       "Diarr_1m           int64\n",
       "Diarr_2m           int64\n",
       "Dam_sep          float64\n",
       "Weight_D1          int64\n",
       "IgG_dam          float64\n",
       "Age_dam            int64\n",
       "IgG_milk_mean    float64\n",
       "IgG_D2           float64\n",
       "dtype: object"
      ]
     },
     "execution_count": 9,
     "metadata": {},
     "output_type": "execute_result"
    }
   ],
   "source": [
    "df.dtypes"
   ]
  },
  {
   "cell_type": "markdown",
   "id": "dcf71c28",
   "metadata": {},
   "source": [
    "On rend catégoriques les variables qui sont de type object comme l'ID de la portée, le sexe, le groupe, la taille de la race et la taille de la portée."
   ]
  },
  {
   "cell_type": "code",
   "execution_count": 10,
   "id": "d57f3241",
   "metadata": {},
   "outputs": [],
   "source": [
    "df['ID_litter']=pd.Categorical(df['ID_litter'],ordered=False)\n",
    "df['Sex']=pd.Categorical(df['Sex'],ordered=False)\n",
    "df['Group']=pd.Categorical(df['Group'],ordered=False)\n",
    "df['Breed_size']=pd.Categorical(df['Breed_size'],ordered=False)"
   ]
  },
  {
   "cell_type": "code",
   "execution_count": 11,
   "id": "3d1a5872",
   "metadata": {},
   "outputs": [
    {
     "data": {
      "text/plain": [
       "ID_litter        category\n",
       "Sex              category\n",
       "Group            category\n",
       "Breed_size       category\n",
       "Litter_size         int64\n",
       "Dead                int64\n",
       "Dead_age          float64\n",
       "Diarr_1m            int64\n",
       "Diarr_2m            int64\n",
       "Dam_sep           float64\n",
       "Weight_D1           int64\n",
       "IgG_dam           float64\n",
       "Age_dam             int64\n",
       "IgG_milk_mean     float64\n",
       "IgG_D2            float64\n",
       "dtype: object"
      ]
     },
     "execution_count": 11,
     "metadata": {},
     "output_type": "execute_result"
    }
   ],
   "source": [
    "df.dtypes"
   ]
  },
  {
   "cell_type": "code",
   "execution_count": 12,
   "id": "d3b902c4",
   "metadata": {
    "scrolled": true
   },
   "outputs": [
    {
     "data": {
      "text/html": [
       "<div>\n",
       "<style scoped>\n",
       "    .dataframe tbody tr th:only-of-type {\n",
       "        vertical-align: middle;\n",
       "    }\n",
       "\n",
       "    .dataframe tbody tr th {\n",
       "        vertical-align: top;\n",
       "    }\n",
       "\n",
       "    .dataframe thead th {\n",
       "        text-align: right;\n",
       "    }\n",
       "</style>\n",
       "<table border=\"1\" class=\"dataframe\">\n",
       "  <thead>\n",
       "    <tr style=\"text-align: right;\">\n",
       "      <th></th>\n",
       "      <th>Dead</th>\n",
       "      <th>ID_litter</th>\n",
       "      <th>Sex</th>\n",
       "      <th>Group</th>\n",
       "      <th>Breed_size</th>\n",
       "      <th>Litter_size</th>\n",
       "      <th>Dead_age</th>\n",
       "      <th>Diarr_1m</th>\n",
       "      <th>Diarr_2m</th>\n",
       "      <th>Dam_sep</th>\n",
       "      <th>Weight_D1</th>\n",
       "      <th>IgG_dam</th>\n",
       "      <th>Age_dam</th>\n",
       "      <th>IgG_milk_mean</th>\n",
       "      <th>IgG_D2</th>\n",
       "    </tr>\n",
       "  </thead>\n",
       "  <tbody>\n",
       "    <tr>\n",
       "      <th>0</th>\n",
       "      <td>1</td>\n",
       "      <td>10L</td>\n",
       "      <td>M</td>\n",
       "      <td>EL</td>\n",
       "      <td>S</td>\n",
       "      <td>1</td>\n",
       "      <td>1.0</td>\n",
       "      <td>0</td>\n",
       "      <td>0</td>\n",
       "      <td>NaN</td>\n",
       "      <td>223</td>\n",
       "      <td>8.412161</td>\n",
       "      <td>6</td>\n",
       "      <td>23.842138</td>\n",
       "      <td>NaN</td>\n",
       "    </tr>\n",
       "    <tr>\n",
       "      <th>1</th>\n",
       "      <td>0</td>\n",
       "      <td>11L</td>\n",
       "      <td>M</td>\n",
       "      <td>OO</td>\n",
       "      <td>S</td>\n",
       "      <td>6</td>\n",
       "      <td>NaN</td>\n",
       "      <td>1</td>\n",
       "      <td>0</td>\n",
       "      <td>9.0</td>\n",
       "      <td>167</td>\n",
       "      <td>6.001322</td>\n",
       "      <td>3</td>\n",
       "      <td>25.937648</td>\n",
       "      <td>5.480288</td>\n",
       "    </tr>\n",
       "    <tr>\n",
       "      <th>2</th>\n",
       "      <td>0</td>\n",
       "      <td>11L</td>\n",
       "      <td>F</td>\n",
       "      <td>OL</td>\n",
       "      <td>S</td>\n",
       "      <td>6</td>\n",
       "      <td>NaN</td>\n",
       "      <td>1</td>\n",
       "      <td>0</td>\n",
       "      <td>9.0</td>\n",
       "      <td>165</td>\n",
       "      <td>6.001322</td>\n",
       "      <td>3</td>\n",
       "      <td>25.937648</td>\n",
       "      <td>1.908716</td>\n",
       "    </tr>\n",
       "    <tr>\n",
       "      <th>3</th>\n",
       "      <td>1</td>\n",
       "      <td>11L</td>\n",
       "      <td>F</td>\n",
       "      <td>OO</td>\n",
       "      <td>S</td>\n",
       "      <td>6</td>\n",
       "      <td>2.0</td>\n",
       "      <td>0</td>\n",
       "      <td>0</td>\n",
       "      <td>NaN</td>\n",
       "      <td>182</td>\n",
       "      <td>6.001322</td>\n",
       "      <td>3</td>\n",
       "      <td>25.937648</td>\n",
       "      <td>NaN</td>\n",
       "    </tr>\n",
       "    <tr>\n",
       "      <th>4</th>\n",
       "      <td>1</td>\n",
       "      <td>11L</td>\n",
       "      <td>F</td>\n",
       "      <td>OL</td>\n",
       "      <td>S</td>\n",
       "      <td>6</td>\n",
       "      <td>5.0</td>\n",
       "      <td>0</td>\n",
       "      <td>0</td>\n",
       "      <td>NaN</td>\n",
       "      <td>178</td>\n",
       "      <td>6.001322</td>\n",
       "      <td>3</td>\n",
       "      <td>25.937648</td>\n",
       "      <td>1.281405</td>\n",
       "    </tr>\n",
       "  </tbody>\n",
       "</table>\n",
       "</div>"
      ],
      "text/plain": [
       "   Dead ID_litter Sex Group Breed_size  Litter_size  Dead_age  Diarr_1m  \\\n",
       "0     1       10L   M    EL          S            1       1.0         0   \n",
       "1     0       11L   M    OO          S            6       NaN         1   \n",
       "2     0       11L   F    OL          S            6       NaN         1   \n",
       "3     1       11L   F    OO          S            6       2.0         0   \n",
       "4     1       11L   F    OL          S            6       5.0         0   \n",
       "\n",
       "   Diarr_2m  Dam_sep  Weight_D1   IgG_dam  Age_dam  IgG_milk_mean    IgG_D2  \n",
       "0         0      NaN        223  8.412161        6      23.842138       NaN  \n",
       "1         0      9.0        167  6.001322        3      25.937648  5.480288  \n",
       "2         0      9.0        165  6.001322        3      25.937648  1.908716  \n",
       "3         0      NaN        182  6.001322        3      25.937648       NaN  \n",
       "4         0      NaN        178  6.001322        3      25.937648  1.281405  "
      ]
     },
     "execution_count": 12,
     "metadata": {},
     "output_type": "execute_result"
    }
   ],
   "source": [
    "first_column = df.pop('Dead') \n",
    "df.insert(0, 'Dead', first_column) \n",
    "df.head()"
   ]
  },
  {
   "cell_type": "code",
   "execution_count": 13,
   "id": "05f16f39",
   "metadata": {},
   "outputs": [],
   "source": [
    "# Chiots de petite race\n",
    "df_S = df[df['Breed_size']=='S']\n",
    "# Chiots de grande race\n",
    "df_L = df[df['Breed_size']=='L']"
   ]
  },
  {
   "cell_type": "code",
   "execution_count": 14,
   "id": "4269a003",
   "metadata": {},
   "outputs": [
    {
     "data": {
      "text/plain": [
       "Text(0.5, 1.0, 'Chiots de race de petite taille morts et vivants suivant leur poids à la naissance')"
      ]
     },
     "execution_count": 14,
     "metadata": {},
     "output_type": "execute_result"
    },
    {
     "data": {
      "image/png": "[encoded data removed]",
      "text/plain": [
       "<Figure size 504x432 with 1 Axes>"
      ]
     },
     "metadata": {
      "needs_background": "light"
     },
     "output_type": "display_data"
    }
   ],
   "source": [
    "plt.figure(figsize=(7, 6)) \n",
    "sns.boxplot(x='Dead', \n",
    "            y='Weight_D1', \n",
    "            data=df_S) \n",
    "plt.ylabel(\"Poids au jour 1\", size=14) \n",
    "plt.xlabel(\"Morts et vivants\", size=14)\n",
    "plt.xticks(np.arange(2), ['Vivants', 'Morts'])\n",
    "plt.title(\"Chiots de race de petite taille morts et vivants suivant leur poids à la naissance\", size=18)"
   ]
  },
  {
   "cell_type": "code",
   "execution_count": 15,
   "id": "41aca369",
   "metadata": {
    "scrolled": true
   },
   "outputs": [
    {
     "data": {
      "text/plain": [
       "Text(0.5, 1.0, 'Chiots de race de grande taille morts et vivants suivant leur poids à la naissance')"
      ]
     },
     "execution_count": 15,
     "metadata": {},
     "output_type": "execute_result"
    },
    {
     "data": {
      "image/png": "[encoded data removed]",
      "text/plain": [
       "<Figure size 504x432 with 1 Axes>"
      ]
     },
     "metadata": {
      "needs_background": "light"
     },
     "output_type": "display_data"
    }
   ],
   "source": [
    "plt.figure(figsize=(7, 6)) \n",
    "sns.boxplot(x='Dead', \n",
    "            y='Weight_D1', \n",
    "            data=df_L) \n",
    "plt.ylabel(\"Poids au jour 1\", size=14) \n",
    "plt.xlabel(\"Morts et vivants\", size=14) \n",
    "plt.xticks(np.arange(2), ['Vivants', 'Morts'])\n",
    "plt.title(\"Chiots de race de grande taille morts et vivants suivant leur poids à la naissance\", size=18)"
   ]
  },
  {
   "cell_type": "code",
   "execution_count": 16,
   "id": "1e2f7647",
   "metadata": {},
   "outputs": [
    {
     "data": {
      "text/plain": [
       "Text(0.5, 1.0, 'Chiots de race de petite taille morts et vivants suivant la taille de la portée')"
      ]
     },
     "execution_count": 16,
     "metadata": {},
     "output_type": "execute_result"
    },
    {
     "data": {
      "image/png": "[encoded data removed]",
      "text/plain": [
       "<Figure size 504x432 with 1 Axes>"
      ]
     },
     "metadata": {
      "needs_background": "light"
     },
     "output_type": "display_data"
    }
   ],
   "source": [
    "plt.figure(figsize=(7, 6)) \n",
    "sns.boxplot(x='Dead', \n",
    "            y='Litter_size', \n",
    "            data=df_S) \n",
    "plt.xlabel(\"Morts et vivants\", size=14) \n",
    "plt.ylabel(\"Nombre de chiots dans la portée\", size=14) \n",
    "plt.xticks(np.arange(2), ['Vivants', 'Morts'])\n",
    "plt.title(\"Chiots de race de petite taille morts et vivants suivant la taille de la portée\", size=18)"
   ]
  },
  {
   "cell_type": "code",
   "execution_count": 18,
   "id": "d9bc45d3",
   "metadata": {},
   "outputs": [
    {
     "data": {
      "text/plain": [
       "Text(0.5, 1.0, \"Chiots morts et vivants suivant le taux d'IgG\")"
      ]
     },
     "execution_count": 18,
     "metadata": {},
     "output_type": "execute_result"
    },
    {
     "data": {
      "image/png": "[encoded data removed]",
      "text/plain": [
       "<Figure size 504x432 with 1 Axes>"
      ]
     },
     "metadata": {
      "needs_background": "light"
     },
     "output_type": "display_data"
    }
   ],
   "source": [
    "plt.figure(figsize=(7, 6)) \n",
    "sns.boxplot(x='Dead', \n",
    "            y='IgG_D2', \n",
    "            data=df) \n",
    "plt.xlabel(\"Morts et vivants\", size=14) \n",
    "plt.ylabel(\"Taux d'immunoglobulines G au jour 2\", size=14) \n",
    "plt.xticks(np.arange(2), ['Vivants', 'Morts'])\n",
    "plt.title(\"Chiots morts et vivants suivant le taux d'IgG\", size=18)"
   ]
  },
  {
   "cell_type": "markdown",
   "id": "fe51538f",
   "metadata": {},
   "source": [
    "# Feature Selection"
   ]
  },
  {
   "cell_type": "code",
   "execution_count": 20,
   "id": "5e2825a2",
   "metadata": {},
   "outputs": [],
   "source": [
    "import scipy.stats as stats\n",
    "from sklearn.model_selection import train_test_split"
   ]
  },
  {
   "cell_type": "code",
   "execution_count": 21,
   "id": "452dad2a",
   "metadata": {},
   "outputs": [],
   "source": [
    "X = df[['Diarr_1m','Weight_D1','IgG_dam','IgG_D2']]\n",
    "y = df.iloc[:,0].values\n",
    "X_train, X_test, y_train, y_test = train_test_split(X, y, test_size=0.2)"
   ]
  },
  {
   "cell_type": "markdown",
   "id": "0850d248",
   "metadata": {},
   "source": [
    "## Filter"
   ]
  },
  {
   "cell_type": "markdown",
   "id": "284ec1ab",
   "metadata": {},
   "source": [
    "### Pearson"
   ]
  },
  {
   "cell_type": "code",
   "execution_count": 22,
   "id": "be426b7a",
   "metadata": {},
   "outputs": [],
   "source": [
    "from scipy.stats import pearsonr"
   ]
  },
  {
   "cell_type": "code",
   "execution_count": 23,
   "id": "106cc1f4",
   "metadata": {},
   "outputs": [
    {
     "name": "stdout",
     "output_type": "stream",
     "text": [
      "-0.3529946301792001\n",
      "2.5101476743455673e-06\n"
     ]
    }
   ],
   "source": [
    "X = df['Weight_D1']\n",
    "y = df['Dead']\n",
    "corr, p_value = pearsonr(X, y)\n",
    "print(corr)\n",
    "print(p_value)"
   ]
  },
  {
   "cell_type": "code",
   "execution_count": 24,
   "id": "a39161ab",
   "metadata": {},
   "outputs": [
    {
     "name": "stdout",
     "output_type": "stream",
     "text": [
      "-0.23666645280993412\n",
      "0.001948561642834569\n"
     ]
    }
   ],
   "source": [
    "X = df['Diarr_1m']\n",
    "y = df['Dead']\n",
    "corr, p_value = pearsonr(X, y)\n",
    "print(corr)\n",
    "print(p_value)"
   ]
  },
  {
   "cell_type": "code",
   "execution_count": 25,
   "id": "605eec4a",
   "metadata": {},
   "outputs": [
    {
     "data": {
      "text/html": [
       "<div>\n",
       "<style scoped>\n",
       "    .dataframe tbody tr th:only-of-type {\n",
       "        vertical-align: middle;\n",
       "    }\n",
       "\n",
       "    .dataframe tbody tr th {\n",
       "        vertical-align: top;\n",
       "    }\n",
       "\n",
       "    .dataframe thead th {\n",
       "        text-align: right;\n",
       "    }\n",
       "</style>\n",
       "<table border=\"1\" class=\"dataframe\">\n",
       "  <thead>\n",
       "    <tr style=\"text-align: right;\">\n",
       "      <th></th>\n",
       "      <th>Dead</th>\n",
       "      <th>Litter_size</th>\n",
       "      <th>Dead_age</th>\n",
       "      <th>Diarr_1m</th>\n",
       "      <th>Diarr_2m</th>\n",
       "      <th>Dam_sep</th>\n",
       "      <th>Weight_D1</th>\n",
       "      <th>IgG_dam</th>\n",
       "      <th>Age_dam</th>\n",
       "      <th>IgG_milk_mean</th>\n",
       "      <th>IgG_D2</th>\n",
       "    </tr>\n",
       "  </thead>\n",
       "  <tbody>\n",
       "    <tr>\n",
       "      <th>Dead</th>\n",
       "      <td>1.000000</td>\n",
       "      <td>0.163666</td>\n",
       "      <td>NaN</td>\n",
       "      <td>-0.236666</td>\n",
       "      <td>-0.164117</td>\n",
       "      <td>NaN</td>\n",
       "      <td>-0.352995</td>\n",
       "      <td>0.201954</td>\n",
       "      <td>0.031035</td>\n",
       "      <td>0.080200</td>\n",
       "      <td>-0.244929</td>\n",
       "    </tr>\n",
       "    <tr>\n",
       "      <th>Litter_size</th>\n",
       "      <td>0.163666</td>\n",
       "      <td>1.000000</td>\n",
       "      <td>0.105537</td>\n",
       "      <td>0.114893</td>\n",
       "      <td>0.034929</td>\n",
       "      <td>-0.062712</td>\n",
       "      <td>-0.083059</td>\n",
       "      <td>0.214169</td>\n",
       "      <td>-0.285673</td>\n",
       "      <td>0.174631</td>\n",
       "      <td>-0.054622</td>\n",
       "    </tr>\n",
       "    <tr>\n",
       "      <th>Dead_age</th>\n",
       "      <td>NaN</td>\n",
       "      <td>0.105537</td>\n",
       "      <td>1.000000</td>\n",
       "      <td>0.318591</td>\n",
       "      <td>0.511943</td>\n",
       "      <td>NaN</td>\n",
       "      <td>0.372919</td>\n",
       "      <td>0.254431</td>\n",
       "      <td>-0.218820</td>\n",
       "      <td>0.148998</td>\n",
       "      <td>0.500774</td>\n",
       "    </tr>\n",
       "    <tr>\n",
       "      <th>Diarr_1m</th>\n",
       "      <td>-0.236666</td>\n",
       "      <td>0.114893</td>\n",
       "      <td>0.318591</td>\n",
       "      <td>1.000000</td>\n",
       "      <td>0.126734</td>\n",
       "      <td>0.003870</td>\n",
       "      <td>0.088812</td>\n",
       "      <td>-0.053996</td>\n",
       "      <td>-0.388995</td>\n",
       "      <td>0.211924</td>\n",
       "      <td>-0.067444</td>\n",
       "    </tr>\n",
       "    <tr>\n",
       "      <th>Diarr_2m</th>\n",
       "      <td>-0.164117</td>\n",
       "      <td>0.034929</td>\n",
       "      <td>0.511943</td>\n",
       "      <td>0.126734</td>\n",
       "      <td>1.000000</td>\n",
       "      <td>-0.017193</td>\n",
       "      <td>0.157188</td>\n",
       "      <td>0.110235</td>\n",
       "      <td>-0.317449</td>\n",
       "      <td>0.055625</td>\n",
       "      <td>0.275860</td>\n",
       "    </tr>\n",
       "    <tr>\n",
       "      <th>Dam_sep</th>\n",
       "      <td>NaN</td>\n",
       "      <td>-0.062712</td>\n",
       "      <td>NaN</td>\n",
       "      <td>0.003870</td>\n",
       "      <td>-0.017193</td>\n",
       "      <td>1.000000</td>\n",
       "      <td>-0.701144</td>\n",
       "      <td>-0.065068</td>\n",
       "      <td>-0.037067</td>\n",
       "      <td>0.434010</td>\n",
       "      <td>-0.114417</td>\n",
       "    </tr>\n",
       "    <tr>\n",
       "      <th>Weight_D1</th>\n",
       "      <td>-0.352995</td>\n",
       "      <td>-0.083059</td>\n",
       "      <td>0.372919</td>\n",
       "      <td>0.088812</td>\n",
       "      <td>0.157188</td>\n",
       "      <td>-0.701144</td>\n",
       "      <td>1.000000</td>\n",
       "      <td>0.113232</td>\n",
       "      <td>0.035568</td>\n",
       "      <td>-0.247958</td>\n",
       "      <td>0.378559</td>\n",
       "    </tr>\n",
       "    <tr>\n",
       "      <th>IgG_dam</th>\n",
       "      <td>0.201954</td>\n",
       "      <td>0.214169</td>\n",
       "      <td>0.254431</td>\n",
       "      <td>-0.053996</td>\n",
       "      <td>0.110235</td>\n",
       "      <td>-0.065068</td>\n",
       "      <td>0.113232</td>\n",
       "      <td>1.000000</td>\n",
       "      <td>0.034874</td>\n",
       "      <td>0.238188</td>\n",
       "      <td>0.293650</td>\n",
       "    </tr>\n",
       "    <tr>\n",
       "      <th>Age_dam</th>\n",
       "      <td>0.031035</td>\n",
       "      <td>-0.285673</td>\n",
       "      <td>-0.218820</td>\n",
       "      <td>-0.388995</td>\n",
       "      <td>-0.317449</td>\n",
       "      <td>-0.037067</td>\n",
       "      <td>0.035568</td>\n",
       "      <td>0.034874</td>\n",
       "      <td>1.000000</td>\n",
       "      <td>-0.192449</td>\n",
       "      <td>-0.174338</td>\n",
       "    </tr>\n",
       "    <tr>\n",
       "      <th>IgG_milk_mean</th>\n",
       "      <td>0.080200</td>\n",
       "      <td>0.174631</td>\n",
       "      <td>0.148998</td>\n",
       "      <td>0.211924</td>\n",
       "      <td>0.055625</td>\n",
       "      <td>0.434010</td>\n",
       "      <td>-0.247958</td>\n",
       "      <td>0.238188</td>\n",
       "      <td>-0.192449</td>\n",
       "      <td>1.000000</td>\n",
       "      <td>0.032496</td>\n",
       "    </tr>\n",
       "    <tr>\n",
       "      <th>IgG_D2</th>\n",
       "      <td>-0.244929</td>\n",
       "      <td>-0.054622</td>\n",
       "      <td>0.500774</td>\n",
       "      <td>-0.067444</td>\n",
       "      <td>0.275860</td>\n",
       "      <td>-0.114417</td>\n",
       "      <td>0.378559</td>\n",
       "      <td>0.293650</td>\n",
       "      <td>-0.174338</td>\n",
       "      <td>0.032496</td>\n",
       "      <td>1.000000</td>\n",
       "    </tr>\n",
       "  </tbody>\n",
       "</table>\n",
       "</div>"
      ],
      "text/plain": [
       "                   Dead  Litter_size  Dead_age  Diarr_1m  Diarr_2m   Dam_sep  \\\n",
       "Dead           1.000000     0.163666       NaN -0.236666 -0.164117       NaN   \n",
       "Litter_size    0.163666     1.000000  0.105537  0.114893  0.034929 -0.062712   \n",
       "Dead_age            NaN     0.105537  1.000000  0.318591  0.511943       NaN   \n",
       "Diarr_1m      -0.236666     0.114893  0.318591  1.000000  0.126734  0.003870   \n",
       "Diarr_2m      -0.164117     0.034929  0.511943  0.126734  1.000000 -0.017193   \n",
       "Dam_sep             NaN    -0.062712       NaN  0.003870 -0.017193  1.000000   \n",
       "Weight_D1     -0.352995    -0.083059  0.372919  0.088812  0.157188 -0.701144   \n",
       "IgG_dam        0.201954     0.214169  0.254431 -0.053996  0.110235 -0.065068   \n",
       "Age_dam        0.031035    -0.285673 -0.218820 -0.388995 -0.317449 -0.037067   \n",
       "IgG_milk_mean  0.080200     0.174631  0.148998  0.211924  0.055625  0.434010   \n",
       "IgG_D2        -0.244929    -0.054622  0.500774 -0.067444  0.275860 -0.114417   \n",
       "\n",
       "               Weight_D1   IgG_dam   Age_dam  IgG_milk_mean    IgG_D2  \n",
       "Dead           -0.352995  0.201954  0.031035       0.080200 -0.244929  \n",
       "Litter_size    -0.083059  0.214169 -0.285673       0.174631 -0.054622  \n",
       "Dead_age        0.372919  0.254431 -0.218820       0.148998  0.500774  \n",
       "Diarr_1m        0.088812 -0.053996 -0.388995       0.211924 -0.067444  \n",
       "Diarr_2m        0.157188  0.110235 -0.317449       0.055625  0.275860  \n",
       "Dam_sep        -0.701144 -0.065068 -0.037067       0.434010 -0.114417  \n",
       "Weight_D1       1.000000  0.113232  0.035568      -0.247958  0.378559  \n",
       "IgG_dam         0.113232  1.000000  0.034874       0.238188  0.293650  \n",
       "Age_dam         0.035568  0.034874  1.000000      -0.192449 -0.174338  \n",
       "IgG_milk_mean  -0.247958  0.238188 -0.192449       1.000000  0.032496  \n",
       "IgG_D2          0.378559  0.293650 -0.174338       0.032496  1.000000  "
      ]
     },
     "execution_count": 25,
     "metadata": {},
     "output_type": "execute_result"
    }
   ],
   "source": [
    "pearson_matrix= df.corr(method='pearson')\n",
    "pearson_matrix"
   ]
  },
  {
   "cell_type": "code",
   "execution_count": 26,
   "id": "56f0da3c",
   "metadata": {
    "scrolled": true
   },
   "outputs": [
    {
     "data": {
      "image/png": "[encoded data removed]",
      "text/plain": [
       "<Figure size 720x576 with 2 Axes>"
      ]
     },
     "metadata": {
      "needs_background": "light"
     },
     "output_type": "display_data"
    }
   ],
   "source": [
    "plt.figure(figsize=(10,8))\n",
    "corr=df.corr()\n",
    "sns.heatmap(corr, annot=True, cmap=plt.cm.Blues)\n",
    "plt.show()"
   ]
  }
 ],
 "metadata": {
  "kernelspec": {
   "display_name": "Python 3",
   "language": "python",
   "name": "python3"
  },
  "language_info": {
   "codemirror_mode": {
    "name": "ipython",
    "version": 3
   },
   "file_extension": ".py",
   "mimetype": "text/x-python",
   "name": "python",
   "nbconvert_exporter": "python",
   "pygments_lexer": "ipython3",
   "version": "3.8.8"
  }
 },
 "nbformat": 4,
 "nbformat_minor": 5
}
