{
 "cells": [
  {
   "cell_type": "code",
   "execution_count": 33,
   "id": "89850ff6",
   "metadata": {
    "id": "89850ff6"
   },
   "outputs": [],
   "source": [
    "import pandas as pd\n",
    "import numpy as np\n",
    "import seaborn as sns\n",
    "import matplotlib.pyplot as plt"
   ]
  },
  {
   "cell_type": "code",
   "execution_count": 34,
   "id": "8c0f0841",
   "metadata": {
    "colab": {
     "base_uri": "https://localhost:8080/",
     "height": 310
    },
    "id": "8c0f0841",
    "outputId": "e93003b1-093f-4b89-80fe-10c01c7f671b"
   },
   "outputs": [],
   "source": [
    "df=pd.read_excel('Data.xlsx') "
   ]
  },
  {
   "cell_type": "code",
   "execution_count": 35,
   "id": "af81f84a",
   "metadata": {
    "id": "af81f84a"
   },
   "outputs": [],
   "source": [
    "#Suppression de la première et des 12 dernières colonnes.Quasiment illisible\n",
    "df.drop(df.columns[[0,-1,-2,-3,-4,-5,-6,-7,-8,-9,-10,-11,-12]],inplace=True,axis=1)"
   ]
  },
  {
   "cell_type": "code",
   "execution_count": 36,
   "id": "62ee4d5b",
   "metadata": {
    "id": "62ee4d5b"
   },
   "outputs": [
    {
     "data": {
      "text/html": [
       "<div>\n",
       "<style scoped>\n",
       "    .dataframe tbody tr th:only-of-type {\n",
       "        vertical-align: middle;\n",
       "    }\n",
       "\n",
       "    .dataframe tbody tr th {\n",
       "        vertical-align: top;\n",
       "    }\n",
       "\n",
       "    .dataframe thead th {\n",
       "        text-align: right;\n",
       "    }\n",
       "</style>\n",
       "<table border=\"1\" class=\"dataframe\">\n",
       "  <thead>\n",
       "    <tr style=\"text-align: right;\">\n",
       "      <th></th>\n",
       "      <th>ID_litter</th>\n",
       "      <th>sex</th>\n",
       "      <th>group</th>\n",
       "      <th>breed_size</th>\n",
       "      <th>Breed</th>\n",
       "      <th>Litter_size</th>\n",
       "      <th>Dead</th>\n",
       "      <th>Diarr_1m</th>\n",
       "      <th>Diarr_2m</th>\n",
       "      <th>weight_D1</th>\n",
       "      <th>IgG_dam</th>\n",
       "      <th>age_dam</th>\n",
       "    </tr>\n",
       "  </thead>\n",
       "  <tbody>\n",
       "    <tr>\n",
       "      <th>0</th>\n",
       "      <td>10L</td>\n",
       "      <td>M</td>\n",
       "      <td>EL</td>\n",
       "      <td>S</td>\n",
       "      <td>Poodle</td>\n",
       "      <td>1</td>\n",
       "      <td>1</td>\n",
       "      <td>0</td>\n",
       "      <td>0</td>\n",
       "      <td>223</td>\n",
       "      <td>8.412161</td>\n",
       "      <td>6</td>\n",
       "    </tr>\n",
       "    <tr>\n",
       "      <th>1</th>\n",
       "      <td>11L</td>\n",
       "      <td>M</td>\n",
       "      <td>OO</td>\n",
       "      <td>S</td>\n",
       "      <td>Lhasa Apso</td>\n",
       "      <td>6</td>\n",
       "      <td>0</td>\n",
       "      <td>1</td>\n",
       "      <td>0</td>\n",
       "      <td>167</td>\n",
       "      <td>6.001322</td>\n",
       "      <td>3</td>\n",
       "    </tr>\n",
       "    <tr>\n",
       "      <th>2</th>\n",
       "      <td>11L</td>\n",
       "      <td>F</td>\n",
       "      <td>OL</td>\n",
       "      <td>S</td>\n",
       "      <td>Lhasa Apso</td>\n",
       "      <td>6</td>\n",
       "      <td>0</td>\n",
       "      <td>1</td>\n",
       "      <td>0</td>\n",
       "      <td>165</td>\n",
       "      <td>6.001322</td>\n",
       "      <td>3</td>\n",
       "    </tr>\n",
       "    <tr>\n",
       "      <th>3</th>\n",
       "      <td>11L</td>\n",
       "      <td>F</td>\n",
       "      <td>OO</td>\n",
       "      <td>S</td>\n",
       "      <td>Lhasa Apso</td>\n",
       "      <td>6</td>\n",
       "      <td>1</td>\n",
       "      <td>0</td>\n",
       "      <td>0</td>\n",
       "      <td>182</td>\n",
       "      <td>6.001322</td>\n",
       "      <td>3</td>\n",
       "    </tr>\n",
       "    <tr>\n",
       "      <th>4</th>\n",
       "      <td>11L</td>\n",
       "      <td>F</td>\n",
       "      <td>OL</td>\n",
       "      <td>S</td>\n",
       "      <td>Lhasa Apso</td>\n",
       "      <td>6</td>\n",
       "      <td>1</td>\n",
       "      <td>0</td>\n",
       "      <td>0</td>\n",
       "      <td>178</td>\n",
       "      <td>6.001322</td>\n",
       "      <td>3</td>\n",
       "    </tr>\n",
       "  </tbody>\n",
       "</table>\n",
       "</div>"
      ],
      "text/plain": [
       "  ID_litter sex group breed_size       Breed  Litter_size  Dead  Diarr_1m  \\\n",
       "0       10L   M    EL          S      Poodle            1     1         0   \n",
       "1       11L   M    OO          S  Lhasa Apso            6     0         1   \n",
       "2       11L   F    OL          S  Lhasa Apso            6     0         1   \n",
       "3       11L   F    OO          S  Lhasa Apso            6     1         0   \n",
       "4       11L   F    OL          S  Lhasa Apso            6     1         0   \n",
       "\n",
       "   Diarr_2m  weight_D1   IgG_dam  age_dam  \n",
       "0         0        223  8.412161        6  \n",
       "1         0        167  6.001322        3  \n",
       "2         0        165  6.001322        3  \n",
       "3         0        182  6.001322        3  \n",
       "4         0        178  6.001322        3  "
      ]
     },
     "execution_count": 36,
     "metadata": {},
     "output_type": "execute_result"
    }
   ],
   "source": [
    "#Suppression de toutes nos features contenant des valeurs nulles.\n",
    "df.dropna(axis=1, inplace=True)\n",
    "df.head()"
   ]
  },
  {
   "cell_type": "code",
   "execution_count": 37,
   "id": "2ded7573",
   "metadata": {
    "id": "2ded7573"
   },
   "outputs": [
    {
     "data": {
      "text/plain": [
       "ID_litter       object\n",
       "sex             object\n",
       "group           object\n",
       "breed_size      object\n",
       "Breed           object\n",
       "Litter_size      int64\n",
       "Dead             int64\n",
       "Diarr_1m         int64\n",
       "Diarr_2m         int64\n",
       "weight_D1        int64\n",
       "IgG_dam        float64\n",
       "age_dam          int64\n",
       "dtype: object"
      ]
     },
     "execution_count": 37,
     "metadata": {},
     "output_type": "execute_result"
    }
   ],
   "source": [
    "#Les types de nos features\n",
    "df.dtypes"
   ]
  },
  {
   "cell_type": "markdown",
   "id": "b677143b",
   "metadata": {
    "id": "b677143b"
   },
   "source": [
    "On rend catégoriques les variables qui sont de type object comme l'ID de la portée, le sexe, le groupe, la taille de la race et la taille de la portée."
   ]
  },
  {
   "cell_type": "code",
   "execution_count": 38,
   "id": "3312c633",
   "metadata": {
    "id": "3312c633"
   },
   "outputs": [],
   "source": [
    "df['ID_litter']=pd.Categorical(df['ID_litter'],ordered=False)\n",
    "df['sex']=pd.Categorical(df['sex'],ordered=False)\n",
    "df['group']=pd.Categorical(df['group'],ordered=False)\n",
    "df['breed_size']=pd.Categorical(df['breed_size'],ordered=False)\n",
    "df['Breed']=pd.Categorical(df['Breed'],ordered=False)"
   ]
  },
  {
   "cell_type": "code",
   "execution_count": 39,
   "id": "de0341df",
   "metadata": {
    "id": "de0341df",
    "scrolled": true
   },
   "outputs": [
    {
     "data": {
      "text/html": [
       "<div>\n",
       "<style scoped>\n",
       "    .dataframe tbody tr th:only-of-type {\n",
       "        vertical-align: middle;\n",
       "    }\n",
       "\n",
       "    .dataframe tbody tr th {\n",
       "        vertical-align: top;\n",
       "    }\n",
       "\n",
       "    .dataframe thead th {\n",
       "        text-align: right;\n",
       "    }\n",
       "</style>\n",
       "<table border=\"1\" class=\"dataframe\">\n",
       "  <thead>\n",
       "    <tr style=\"text-align: right;\">\n",
       "      <th></th>\n",
       "      <th>Dead</th>\n",
       "      <th>ID_litter</th>\n",
       "      <th>sex</th>\n",
       "      <th>group</th>\n",
       "      <th>breed_size</th>\n",
       "      <th>Breed</th>\n",
       "      <th>Litter_size</th>\n",
       "      <th>Diarr_1m</th>\n",
       "      <th>Diarr_2m</th>\n",
       "      <th>weight_D1</th>\n",
       "      <th>IgG_dam</th>\n",
       "      <th>age_dam</th>\n",
       "    </tr>\n",
       "  </thead>\n",
       "  <tbody>\n",
       "    <tr>\n",
       "      <th>0</th>\n",
       "      <td>1</td>\n",
       "      <td>10L</td>\n",
       "      <td>M</td>\n",
       "      <td>EL</td>\n",
       "      <td>S</td>\n",
       "      <td>Poodle</td>\n",
       "      <td>1</td>\n",
       "      <td>0</td>\n",
       "      <td>0</td>\n",
       "      <td>223</td>\n",
       "      <td>8.412161</td>\n",
       "      <td>6</td>\n",
       "    </tr>\n",
       "    <tr>\n",
       "      <th>1</th>\n",
       "      <td>0</td>\n",
       "      <td>11L</td>\n",
       "      <td>M</td>\n",
       "      <td>OO</td>\n",
       "      <td>S</td>\n",
       "      <td>Lhasa Apso</td>\n",
       "      <td>6</td>\n",
       "      <td>1</td>\n",
       "      <td>0</td>\n",
       "      <td>167</td>\n",
       "      <td>6.001322</td>\n",
       "      <td>3</td>\n",
       "    </tr>\n",
       "    <tr>\n",
       "      <th>2</th>\n",
       "      <td>0</td>\n",
       "      <td>11L</td>\n",
       "      <td>F</td>\n",
       "      <td>OL</td>\n",
       "      <td>S</td>\n",
       "      <td>Lhasa Apso</td>\n",
       "      <td>6</td>\n",
       "      <td>1</td>\n",
       "      <td>0</td>\n",
       "      <td>165</td>\n",
       "      <td>6.001322</td>\n",
       "      <td>3</td>\n",
       "    </tr>\n",
       "    <tr>\n",
       "      <th>3</th>\n",
       "      <td>1</td>\n",
       "      <td>11L</td>\n",
       "      <td>F</td>\n",
       "      <td>OO</td>\n",
       "      <td>S</td>\n",
       "      <td>Lhasa Apso</td>\n",
       "      <td>6</td>\n",
       "      <td>0</td>\n",
       "      <td>0</td>\n",
       "      <td>182</td>\n",
       "      <td>6.001322</td>\n",
       "      <td>3</td>\n",
       "    </tr>\n",
       "    <tr>\n",
       "      <th>4</th>\n",
       "      <td>1</td>\n",
       "      <td>11L</td>\n",
       "      <td>F</td>\n",
       "      <td>OL</td>\n",
       "      <td>S</td>\n",
       "      <td>Lhasa Apso</td>\n",
       "      <td>6</td>\n",
       "      <td>0</td>\n",
       "      <td>0</td>\n",
       "      <td>178</td>\n",
       "      <td>6.001322</td>\n",
       "      <td>3</td>\n",
       "    </tr>\n",
       "  </tbody>\n",
       "</table>\n",
       "</div>"
      ],
      "text/plain": [
       "   Dead ID_litter sex group breed_size       Breed  Litter_size  Diarr_1m  \\\n",
       "0     1       10L   M    EL          S      Poodle            1         0   \n",
       "1     0       11L   M    OO          S  Lhasa Apso            6         1   \n",
       "2     0       11L   F    OL          S  Lhasa Apso            6         1   \n",
       "3     1       11L   F    OO          S  Lhasa Apso            6         0   \n",
       "4     1       11L   F    OL          S  Lhasa Apso            6         0   \n",
       "\n",
       "   Diarr_2m  weight_D1   IgG_dam  age_dam  \n",
       "0         0        223  8.412161        6  \n",
       "1         0        167  6.001322        3  \n",
       "2         0        165  6.001322        3  \n",
       "3         0        182  6.001322        3  \n",
       "4         0        178  6.001322        3  "
      ]
     },
     "execution_count": 39,
     "metadata": {},
     "output_type": "execute_result"
    }
   ],
   "source": [
    "first_column = df.pop('Dead') \n",
    "df.insert(0, 'Dead', first_column) \n",
    "df.head()"
   ]
  },
  {
   "cell_type": "markdown",
   "id": "9513f0f2",
   "metadata": {
    "id": "9513f0f2"
   },
   "source": [
    "## Label Encoder"
   ]
  },
  {
   "cell_type": "code",
   "execution_count": 40,
   "id": "31efbb90",
   "metadata": {
    "id": "31efbb90"
   },
   "outputs": [
    {
     "data": {
      "text/html": [
       "<div>\n",
       "<style scoped>\n",
       "    .dataframe tbody tr th:only-of-type {\n",
       "        vertical-align: middle;\n",
       "    }\n",
       "\n",
       "    .dataframe tbody tr th {\n",
       "        vertical-align: top;\n",
       "    }\n",
       "\n",
       "    .dataframe thead th {\n",
       "        text-align: right;\n",
       "    }\n",
       "</style>\n",
       "<table border=\"1\" class=\"dataframe\">\n",
       "  <thead>\n",
       "    <tr style=\"text-align: right;\">\n",
       "      <th></th>\n",
       "      <th>Dead</th>\n",
       "      <th>ID_litter</th>\n",
       "      <th>sex</th>\n",
       "      <th>group</th>\n",
       "      <th>breed_size</th>\n",
       "      <th>Breed</th>\n",
       "      <th>Litter_size</th>\n",
       "      <th>Diarr_1m</th>\n",
       "      <th>Diarr_2m</th>\n",
       "      <th>weight_D1</th>\n",
       "      <th>IgG_dam</th>\n",
       "      <th>age_dam</th>\n",
       "    </tr>\n",
       "  </thead>\n",
       "  <tbody>\n",
       "    <tr>\n",
       "      <th>0</th>\n",
       "      <td>1</td>\n",
       "      <td>0</td>\n",
       "      <td>1</td>\n",
       "      <td>0</td>\n",
       "      <td>1</td>\n",
       "      <td>9</td>\n",
       "      <td>1</td>\n",
       "      <td>0</td>\n",
       "      <td>0</td>\n",
       "      <td>223</td>\n",
       "      <td>8.412161</td>\n",
       "      <td>6</td>\n",
       "    </tr>\n",
       "    <tr>\n",
       "      <th>1</th>\n",
       "      <td>0</td>\n",
       "      <td>1</td>\n",
       "      <td>1</td>\n",
       "      <td>3</td>\n",
       "      <td>1</td>\n",
       "      <td>6</td>\n",
       "      <td>6</td>\n",
       "      <td>1</td>\n",
       "      <td>0</td>\n",
       "      <td>167</td>\n",
       "      <td>6.001322</td>\n",
       "      <td>3</td>\n",
       "    </tr>\n",
       "    <tr>\n",
       "      <th>2</th>\n",
       "      <td>0</td>\n",
       "      <td>1</td>\n",
       "      <td>0</td>\n",
       "      <td>2</td>\n",
       "      <td>1</td>\n",
       "      <td>6</td>\n",
       "      <td>6</td>\n",
       "      <td>1</td>\n",
       "      <td>0</td>\n",
       "      <td>165</td>\n",
       "      <td>6.001322</td>\n",
       "      <td>3</td>\n",
       "    </tr>\n",
       "    <tr>\n",
       "      <th>3</th>\n",
       "      <td>1</td>\n",
       "      <td>1</td>\n",
       "      <td>0</td>\n",
       "      <td>3</td>\n",
       "      <td>1</td>\n",
       "      <td>6</td>\n",
       "      <td>6</td>\n",
       "      <td>0</td>\n",
       "      <td>0</td>\n",
       "      <td>182</td>\n",
       "      <td>6.001322</td>\n",
       "      <td>3</td>\n",
       "    </tr>\n",
       "    <tr>\n",
       "      <th>4</th>\n",
       "      <td>1</td>\n",
       "      <td>1</td>\n",
       "      <td>0</td>\n",
       "      <td>2</td>\n",
       "      <td>1</td>\n",
       "      <td>6</td>\n",
       "      <td>6</td>\n",
       "      <td>0</td>\n",
       "      <td>0</td>\n",
       "      <td>178</td>\n",
       "      <td>6.001322</td>\n",
       "      <td>3</td>\n",
       "    </tr>\n",
       "  </tbody>\n",
       "</table>\n",
       "</div>"
      ],
      "text/plain": [
       "   Dead  ID_litter  sex  group  breed_size  Breed  Litter_size  Diarr_1m  \\\n",
       "0     1          0    1      0           1      9            1         0   \n",
       "1     0          1    1      3           1      6            6         1   \n",
       "2     0          1    0      2           1      6            6         1   \n",
       "3     1          1    0      3           1      6            6         0   \n",
       "4     1          1    0      2           1      6            6         0   \n",
       "\n",
       "   Diarr_2m  weight_D1   IgG_dam  age_dam  \n",
       "0         0        223  8.412161        6  \n",
       "1         0        167  6.001322        3  \n",
       "2         0        165  6.001322        3  \n",
       "3         0        182  6.001322        3  \n",
       "4         0        178  6.001322        3  "
      ]
     },
     "execution_count": 40,
     "metadata": {},
     "output_type": "execute_result"
    }
   ],
   "source": [
    "#Labélisation de nos données catégorielles en utilisant la méthode LabelEncoder\n",
    "from sklearn.preprocessing import LabelEncoder\n",
    "label_encoder = LabelEncoder()\n",
    "\n",
    "df['ID_litter'] = label_encoder.fit_transform(df['ID_litter'])\n",
    "df['group'] = label_encoder.fit_transform(df['group'])\n",
    "df['Breed'] = label_encoder.fit_transform(df['Breed'])\n",
    "df['breed_size'] = label_encoder.fit_transform(df['breed_size'])\n",
    "\n",
    "df['sex'] = df['sex'].replace(to_replace={'M':1,'F':0})\n",
    "df.head()\n"
   ]
  },
  {
   "cell_type": "code",
   "execution_count": 41,
   "id": "77bde37a",
   "metadata": {
    "id": "77bde37a"
   },
   "outputs": [],
   "source": [
    "# Dans un premier temps, nous ne gardons que les features originalement numérique. (Litter_size;weigh_D1;IgG_dam;age_dam)\n",
    "X = df.iloc[:,[6,9,10,11]]\n",
    "X_KMeans_numeriques = df.iloc[:,[6,9,10,11]].values\n",
    "y = df.iloc[:,0].values"
   ]
  },
  {
   "cell_type": "markdown",
   "id": "0fca367b",
   "metadata": {
    "id": "0fca367b"
   },
   "source": [
    "## Clustering : KMeans"
   ]
  },
  {
   "cell_type": "code",
   "execution_count": 42,
   "id": "4b5228bf",
   "metadata": {
    "id": "4b5228bf"
   },
   "outputs": [],
   "source": [
    "from sklearn.cluster import KMeans\n",
    "import statistics"
   ]
  },
  {
   "cell_type": "markdown",
   "id": "6be632eb",
   "metadata": {
    "id": "6be632eb"
   },
   "source": [
    "### Clustering des 11 features individuellement"
   ]
  },
  {
   "cell_type": "code",
   "execution_count": 43,
   "id": "c4825e0a",
   "metadata": {
    "id": "c4825e0a"
   },
   "outputs": [
    {
     "data": {
      "text/html": [
       "<div>\n",
       "<style scoped>\n",
       "    .dataframe tbody tr th:only-of-type {\n",
       "        vertical-align: middle;\n",
       "    }\n",
       "\n",
       "    .dataframe tbody tr th {\n",
       "        vertical-align: top;\n",
       "    }\n",
       "\n",
       "    .dataframe thead th {\n",
       "        text-align: right;\n",
       "    }\n",
       "</style>\n",
       "<table border=\"1\" class=\"dataframe\">\n",
       "  <thead>\n",
       "    <tr style=\"text-align: right;\">\n",
       "      <th></th>\n",
       "      <th>ID_litter</th>\n",
       "      <th>sex</th>\n",
       "      <th>group</th>\n",
       "      <th>breed_size</th>\n",
       "      <th>Breed</th>\n",
       "      <th>Litter_size</th>\n",
       "      <th>Diarr_1m</th>\n",
       "      <th>Diarr_2m</th>\n",
       "      <th>weight_D1</th>\n",
       "      <th>IgG_dam</th>\n",
       "      <th>age_dam</th>\n",
       "    </tr>\n",
       "  </thead>\n",
       "  <tbody>\n",
       "    <tr>\n",
       "      <th>0</th>\n",
       "      <td>0</td>\n",
       "      <td>1</td>\n",
       "      <td>0</td>\n",
       "      <td>1</td>\n",
       "      <td>9</td>\n",
       "      <td>1</td>\n",
       "      <td>0</td>\n",
       "      <td>0</td>\n",
       "      <td>223</td>\n",
       "      <td>8.412161</td>\n",
       "      <td>6</td>\n",
       "    </tr>\n",
       "    <tr>\n",
       "      <th>1</th>\n",
       "      <td>1</td>\n",
       "      <td>1</td>\n",
       "      <td>3</td>\n",
       "      <td>1</td>\n",
       "      <td>6</td>\n",
       "      <td>6</td>\n",
       "      <td>1</td>\n",
       "      <td>0</td>\n",
       "      <td>167</td>\n",
       "      <td>6.001322</td>\n",
       "      <td>3</td>\n",
       "    </tr>\n",
       "    <tr>\n",
       "      <th>2</th>\n",
       "      <td>1</td>\n",
       "      <td>0</td>\n",
       "      <td>2</td>\n",
       "      <td>1</td>\n",
       "      <td>6</td>\n",
       "      <td>6</td>\n",
       "      <td>1</td>\n",
       "      <td>0</td>\n",
       "      <td>165</td>\n",
       "      <td>6.001322</td>\n",
       "      <td>3</td>\n",
       "    </tr>\n",
       "    <tr>\n",
       "      <th>3</th>\n",
       "      <td>1</td>\n",
       "      <td>0</td>\n",
       "      <td>3</td>\n",
       "      <td>1</td>\n",
       "      <td>6</td>\n",
       "      <td>6</td>\n",
       "      <td>0</td>\n",
       "      <td>0</td>\n",
       "      <td>182</td>\n",
       "      <td>6.001322</td>\n",
       "      <td>3</td>\n",
       "    </tr>\n",
       "    <tr>\n",
       "      <th>4</th>\n",
       "      <td>1</td>\n",
       "      <td>0</td>\n",
       "      <td>2</td>\n",
       "      <td>1</td>\n",
       "      <td>6</td>\n",
       "      <td>6</td>\n",
       "      <td>0</td>\n",
       "      <td>0</td>\n",
       "      <td>178</td>\n",
       "      <td>6.001322</td>\n",
       "      <td>3</td>\n",
       "    </tr>\n",
       "    <tr>\n",
       "      <th>...</th>\n",
       "      <td>...</td>\n",
       "      <td>...</td>\n",
       "      <td>...</td>\n",
       "      <td>...</td>\n",
       "      <td>...</td>\n",
       "      <td>...</td>\n",
       "      <td>...</td>\n",
       "      <td>...</td>\n",
       "      <td>...</td>\n",
       "      <td>...</td>\n",
       "      <td>...</td>\n",
       "    </tr>\n",
       "    <tr>\n",
       "      <th>164</th>\n",
       "      <td>33</td>\n",
       "      <td>0</td>\n",
       "      <td>1</td>\n",
       "      <td>1</td>\n",
       "      <td>11</td>\n",
       "      <td>6</td>\n",
       "      <td>0</td>\n",
       "      <td>0</td>\n",
       "      <td>229</td>\n",
       "      <td>4.534240</td>\n",
       "      <td>3</td>\n",
       "    </tr>\n",
       "    <tr>\n",
       "      <th>165</th>\n",
       "      <td>33</td>\n",
       "      <td>1</td>\n",
       "      <td>0</td>\n",
       "      <td>1</td>\n",
       "      <td>11</td>\n",
       "      <td>6</td>\n",
       "      <td>0</td>\n",
       "      <td>0</td>\n",
       "      <td>241</td>\n",
       "      <td>4.534240</td>\n",
       "      <td>3</td>\n",
       "    </tr>\n",
       "    <tr>\n",
       "      <th>166</th>\n",
       "      <td>33</td>\n",
       "      <td>1</td>\n",
       "      <td>1</td>\n",
       "      <td>1</td>\n",
       "      <td>11</td>\n",
       "      <td>6</td>\n",
       "      <td>1</td>\n",
       "      <td>0</td>\n",
       "      <td>210</td>\n",
       "      <td>4.534240</td>\n",
       "      <td>3</td>\n",
       "    </tr>\n",
       "    <tr>\n",
       "      <th>167</th>\n",
       "      <td>33</td>\n",
       "      <td>0</td>\n",
       "      <td>0</td>\n",
       "      <td>1</td>\n",
       "      <td>11</td>\n",
       "      <td>6</td>\n",
       "      <td>1</td>\n",
       "      <td>1</td>\n",
       "      <td>212</td>\n",
       "      <td>4.534240</td>\n",
       "      <td>3</td>\n",
       "    </tr>\n",
       "    <tr>\n",
       "      <th>168</th>\n",
       "      <td>33</td>\n",
       "      <td>1</td>\n",
       "      <td>2</td>\n",
       "      <td>1</td>\n",
       "      <td>11</td>\n",
       "      <td>6</td>\n",
       "      <td>0</td>\n",
       "      <td>0</td>\n",
       "      <td>189</td>\n",
       "      <td>4.534240</td>\n",
       "      <td>3</td>\n",
       "    </tr>\n",
       "  </tbody>\n",
       "</table>\n",
       "<p>169 rows × 11 columns</p>\n",
       "</div>"
      ],
      "text/plain": [
       "     ID_litter  sex  group  breed_size  Breed  Litter_size  Diarr_1m  \\\n",
       "0            0    1      0           1      9            1         0   \n",
       "1            1    1      3           1      6            6         1   \n",
       "2            1    0      2           1      6            6         1   \n",
       "3            1    0      3           1      6            6         0   \n",
       "4            1    0      2           1      6            6         0   \n",
       "..         ...  ...    ...         ...    ...          ...       ...   \n",
       "164         33    0      1           1     11            6         0   \n",
       "165         33    1      0           1     11            6         0   \n",
       "166         33    1      1           1     11            6         1   \n",
       "167         33    0      0           1     11            6         1   \n",
       "168         33    1      2           1     11            6         0   \n",
       "\n",
       "     Diarr_2m  weight_D1   IgG_dam  age_dam  \n",
       "0           0        223  8.412161        6  \n",
       "1           0        167  6.001322        3  \n",
       "2           0        165  6.001322        3  \n",
       "3           0        182  6.001322        3  \n",
       "4           0        178  6.001322        3  \n",
       "..        ...        ...       ...      ...  \n",
       "164         0        229  4.534240        3  \n",
       "165         0        241  4.534240        3  \n",
       "166         0        210  4.534240        3  \n",
       "167         1        212  4.534240        3  \n",
       "168         0        189  4.534240        3  \n",
       "\n",
       "[169 rows x 11 columns]"
      ]
     },
     "execution_count": 43,
     "metadata": {},
     "output_type": "execute_result"
    }
   ],
   "source": [
    "# Ici nous utilisons toutes les features complètes (sauf Dead).\n",
    "X = df.iloc[:,1:]\n",
    "X_KMeans = df.iloc[:,1:].values\n",
    "X"
   ]
  },
  {
   "cell_type": "code",
   "execution_count": 44,
   "id": "94e67597",
   "metadata": {
    "id": "94e67597",
    "scrolled": false
   },
   "outputs": [
    {
     "name": "stdout",
     "output_type": "stream",
     "text": [
      "ID_litter \n",
      " [0 0 0 0 0 0 0 0 0 0 0 0 0 0 0 0 0 0 0 0 0 0 0 0 0 0 0 0 0 0 0 0 0 0 0 0 0\n",
      " 0 0 0 0 0 0 0 0 0 0 0 0 0 0 0 0 0 0 0 0 0 0 0 0 0 0 1 1 1 1 1 1 1 1 1 1 1\n",
      " 1 1 1 1 1 1 1 1 1 1 1 1 1 1 1 1 1 1 1 1 1 1 1 1 1 1 1 1 1 1 1 1 1 1 1 1 1\n",
      " 1 1 1 1 1 1 1 1 1 1 1 1 1 1 1 1 1 1 1 1 1 1 1 1 1 1 1 1 1 1 1 1 1 1 1 1 1\n",
      " 1 1 1 1 1 1 1 1 1 1 1 1 1 1 1 1 1 1 1 1 1]\n",
      "sex \n",
      " [1 1 0 0 0 0 0 1 1 1 1 0 0 1 0 0 1 0 1 1 1 1 0 1 0 0 0 0 1 1 0 1 1 0 0 1 1\n",
      " 0 1 1 1 0 1 1 1 1 0 1 1 1 1 1 0 0 0 1 0 0 1 0 1 0 0 0 0 1 1 1 1 0 0 1 1 0\n",
      " 1 1 1 1 0 1 0 0 1 1 1 0 0 0 1 0 1 0 0 1 1 0 0 1 0 1 1 0 0 1 0 0 1 1 0 1 0\n",
      " 1 0 1 0 1 0 0 1 0 0 1 0 0 1 0 0 0 1 1 1 1 0 0 1 0 1 1 1 0 0 1 0 1 0 1 0 1\n",
      " 0 0 1 1 1 1 0 0 0 0 1 0 1 0 1 0 0 1 1 0 1]\n",
      "group \n",
      " [1 0 0 0 0 0 0 1 1 1 1 1 1 1 1 1 1 1 1 0 0 0 0 1 1 1 1 1 0 1 1 0 1 1 0 1 0\n",
      " 1 1 0 0 1 1 1 0 0 0 0 0 1 1 1 0 0 0 0 0 0 0 0 0 0 0 0 0 0 0 0 0 1 0 1 1 0\n",
      " 0 0 0 0 0 0 0 0 0 0 0 1 1 1 1 1 1 1 0 0 1 0 0 0 0 0 0 0 0 1 1 1 1 1 0 0 0\n",
      " 0 0 1 1 1 1 1 0 0 0 0 0 0 0 0 0 0 1 1 1 1 0 0 0 0 1 1 1 1 1 1 1 1 0 0 0 0\n",
      " 0 0 0 0 1 1 1 1 1 1 1 1 1 1 1 1 1 1 1 1 0]\n",
      "breed_size \n",
      " [0 0 0 0 0 0 0 0 0 0 0 0 0 0 0 0 0 0 0 0 0 0 0 1 1 1 1 1 0 0 0 0 0 0 0 0 0\n",
      " 0 0 0 0 0 0 0 0 0 0 0 1 1 1 1 1 0 0 0 0 0 0 0 0 0 1 1 1 1 1 1 1 0 0 0 0 0\n",
      " 0 0 0 0 0 0 0 0 0 0 0 0 0 0 0 0 0 0 0 0 0 1 1 1 1 1 1 1 1 1 1 1 1 1 1 1 0\n",
      " 0 0 0 0 0 0 0 0 0 0 0 0 0 0 0 0 0 0 0 0 0 0 0 0 0 0 0 1 1 1 1 1 1 1 1 1 0\n",
      " 0 0 0 0 0 0 0 0 1 1 1 1 1 1 1 0 0 0 0 0 0]\n",
      "Breed \n",
      " [1 1 1 1 1 1 1 1 1 1 1 1 1 1 1 1 1 1 1 1 1 1 1 0 0 0 0 0 1 1 1 1 1 1 1 1 1\n",
      " 1 1 1 1 0 0 0 0 1 1 1 0 0 0 0 0 0 0 1 1 1 1 1 1 1 0 0 0 0 0 0 0 1 1 1 1 1\n",
      " 1 1 1 1 1 1 1 1 1 1 1 0 0 0 0 0 0 1 1 1 1 0 0 0 0 0 0 0 0 0 0 0 0 0 0 0 0\n",
      " 0 0 0 0 0 0 0 0 0 0 1 1 1 1 1 1 1 1 1 1 1 1 1 1 1 1 1 0 0 0 0 0 0 0 0 0 0\n",
      " 0 0 0 0 1 1 1 1 0 0 0 0 0 0 0 1 1 1 1 1 1]\n",
      "Litter_size \n",
      " [0 0 0 0 0 0 0 1 1 1 1 1 1 1 1 1 1 0 0 0 0 0 0 0 0 0 0 0 0 0 0 0 0 0 0 0 0\n",
      " 0 0 0 0 0 0 0 0 0 0 0 0 0 0 0 0 0 0 1 1 1 1 1 0 0 0 1 1 1 1 1 1 0 0 0 0 0\n",
      " 0 0 0 0 0 0 0 0 0 0 0 0 0 0 0 0 0 0 0 0 0 1 1 1 1 1 1 1 1 1 1 1 1 1 1 1 0\n",
      " 0 0 1 1 1 1 1 1 1 1 1 1 1 1 1 1 1 1 1 1 1 1 1 1 1 0 0 0 0 0 0 0 0 0 0 0 0\n",
      " 0 0 0 0 0 0 0 0 1 1 1 1 1 1 1 0 0 0 0 0 0]\n",
      "Diarr_1m \n",
      " [0 1 1 0 0 1 1 0 0 0 0 0 0 0 0 0 0 0 0 0 0 0 0 1 1 1 1 1 0 0 0 0 0 0 0 0 0\n",
      " 0 0 1 0 0 1 0 0 0 0 0 0 0 0 0 0 0 0 0 0 0 0 0 0 1 0 0 1 0 0 0 0 0 0 0 0 0\n",
      " 0 0 0 0 0 0 0 1 1 0 0 0 0 0 0 0 0 0 0 0 0 1 1 1 1 1 1 1 1 1 0 0 0 0 0 0 0\n",
      " 0 0 0 0 0 0 0 0 1 0 1 1 1 0 0 1 0 0 0 1 1 0 0 0 0 0 0 0 0 0 0 0 0 0 1 0 0\n",
      " 0 0 0 0 0 0 0 0 0 0 0 0 0 0 0 1 0 0 1 1 0]\n",
      "Diarr_2m \n",
      " [0 0 0 0 0 0 0 0 0 0 0 0 0 0 0 0 0 1 0 0 0 0 0 1 0 0 0 1 0 0 0 0 1 0 0 0 0\n",
      " 0 0 0 0 0 0 1 1 0 0 0 0 0 0 1 0 0 0 0 0 0 0 0 0 0 0 1 0 0 0 0 0 0 0 0 0 0\n",
      " 0 0 0 0 0 0 0 0 0 0 0 0 0 0 0 0 0 0 0 0 0 0 0 1 0 1 0 0 0 0 0 0 0 0 0 0 0\n",
      " 0 1 0 0 0 0 0 0 0 0 0 0 1 0 1 0 0 0 0 1 1 1 1 0 1 0 0 1 1 0 0 1 0 0 0 0 0\n",
      " 1 0 0 1 0 0 0 0 0 0 0 0 0 0 0 0 0 0 0 1 0]\n",
      "weight_D1 \n",
      " [0 0 0 0 0 0 0 0 0 0 0 0 0 0 0 0 0 0 0 0 0 0 0 1 1 1 1 1 0 0 0 0 0 0 0 0 0\n",
      " 0 0 0 0 1 0 1 1 0 0 0 1 1 1 1 1 0 0 0 0 0 0 0 0 0 1 1 0 0 1 0 1 0 0 0 0 0\n",
      " 0 0 0 0 0 0 0 0 0 0 0 0 0 1 1 0 1 0 0 0 0 1 0 1 1 1 1 0 1 1 1 1 1 0 0 0 0\n",
      " 0 0 0 0 0 0 0 0 0 0 0 0 0 0 0 0 0 0 0 0 0 0 0 0 0 0 0 1 1 1 1 1 1 1 1 1 0\n",
      " 0 0 0 0 0 0 0 0 0 1 1 1 1 1 1 0 0 0 0 0 0]\n",
      "IgG_dam \n",
      " [1 0 0 0 0 0 0 0 0 0 0 0 0 0 0 0 0 0 0 1 1 1 1 1 1 1 1 1 0 0 0 0 0 1 1 1 1\n",
      " 1 1 1 1 0 0 0 0 0 0 0 1 1 1 1 1 1 1 0 0 0 0 0 0 0 0 0 0 0 0 0 0 1 1 1 1 1\n",
      " 1 0 0 0 0 0 0 0 0 0 0 0 0 0 0 0 0 0 0 0 0 0 0 0 0 0 0 0 0 0 0 0 0 0 0 0 1\n",
      " 1 1 0 0 1 1 1 1 1 1 1 1 1 1 1 1 1 1 1 1 1 1 1 1 1 0 0 1 1 1 1 1 0 0 0 0 0\n",
      " 0 0 0 0 0 0 0 0 1 1 1 1 1 1 1 0 0 0 0 0 0]\n",
      "age_dam \n",
      " [0 1 1 1 1 1 1 0 0 0 0 0 0 0 0 0 0 1 1 0 0 0 0 1 1 1 1 1 0 0 0 0 0 0 0 0 0\n",
      " 0 0 0 0 1 1 1 1 0 0 0 0 0 0 0 0 0 0 1 1 1 1 1 1 1 0 1 1 1 1 1 1 1 1 1 1 1\n",
      " 1 0 0 0 0 0 0 0 0 0 0 0 0 0 0 0 0 0 0 0 0 1 1 1 1 1 1 1 1 0 0 0 0 0 0 0 0\n",
      " 0 0 0 0 0 0 0 0 0 0 1 1 1 1 1 1 1 1 1 1 1 1 1 1 1 0 0 0 0 0 0 0 0 0 0 0 1\n",
      " 1 1 1 1 0 0 0 0 0 0 0 0 0 0 0 1 1 1 1 1 1]\n",
      "\n",
      "Variance intra cluster : \n"
     ]
    },
    {
     "data": {
      "text/plain": [
       "{'ID_litter': [18.01740911418331, 27.63809523809524],\n",
       " 'sex': [0.0, 0.0],\n",
       " 'group': [0.2525536261491318, 0.253006329113924],\n",
       " 'breed_size': [0.0, 0.0],\n",
       " 'Breed': [2.2531578947368422, 3.033894343151005],\n",
       " 'Litter_size': [1.5454026270702457, 1.120979020979021],\n",
       " 'Diarr_1m': [0.0, 0.0],\n",
       " 'Diarr_2m': [0.0, 0.0],\n",
       " 'weight_D1': [2302.76914503016, 6904.8],\n",
       " 'IgG_dam': [0.6886470221368511, 2.042612438026801],\n",
       " 'age_dam': [0.5419501133786848, 0.39254658385093166]}"
      ]
     },
     "execution_count": 44,
     "metadata": {},
     "output_type": "execute_result"
    }
   ],
   "source": [
    "# Clusterisation de nos features une par une suivant la méthode Kmeans.\n",
    "## dico_cluster_center = {}\n",
    "dico_variance = {}\n",
    "for i in range(11):\n",
    "    model_kmeans = KMeans(n_clusters=2 )\n",
    "    model_kmeans.fit(X_KMeans[:,i].reshape(-1,1))\n",
    "    X_predicted = model_kmeans.predict(X_KMeans[:,i].reshape(-1,1))\n",
    "    print(X.columns[i],\"\\n\",X_predicted)\n",
    "    ## print(model_kmeans.cluster_centers_)\n",
    "    ## dico_cluster_center[X.columns[i]] = model_kmeans.cluster_centers_\n",
    "    # On crée un dictionnaire pour chaques colonnes traitées et on attribue à chaque clé une matrice de taille 2*0 \n",
    "    dico_variance[X.columns[i]] = [[],[]]\n",
    "    for j in range(len(X_predicted)): # On parcourt les X_predicted et, selon la valeur (0 ou 1), on range les valeurs dans le dictionnaire pour respecter la clusterisation effectuée plus haut\n",
    "        if X_predicted[j] == 0:\n",
    "            dico_variance[X.columns[i]][0].append(X_KMeans[:,i][j])\n",
    "        else:\n",
    "            dico_variance[X.columns[i]][1].append(X_KMeans[:,i][j])\n",
    "    \n",
    "    # On change les valeurs des matrices par la variance des listes qu'elles contiennent\n",
    "    dico_variance[X.columns[i]][0] = statistics.variance(dico_variance[X.columns[i]][0])\n",
    "    dico_variance[X.columns[i]][1] = statistics.variance(dico_variance[X.columns[i]][1])\n",
    "    # Chaque clé du dictionnaire renseigne la variance intra-cluster (cluster0 et cluster1) de la colonne en question\n",
    "    \n",
    "#dico_cluster_center\n",
    "print(\"\\nVariance intra cluster : \")\n",
    "dico_variance"
   ]
  },
  {
   "cell_type": "markdown",
   "id": "6792b8df",
   "metadata": {
    "id": "6792b8df"
   },
   "source": [
    "## DbScan"
   ]
  },
  {
   "cell_type": "markdown",
   "id": "1ea270ca",
   "metadata": {
    "id": "1ea270ca"
   },
   "source": [
    "### 1er groupe : sex , breed_size , Diarr_1m, Diarr_2m"
   ]
  },
  {
   "cell_type": "code",
   "execution_count": 45,
   "id": "11d7f521",
   "metadata": {
    "id": "11d7f521"
   },
   "outputs": [],
   "source": [
    "X_1 = X.loc[:,['sex','breed_size','Diarr_1m','Diarr_2m']]"
   ]
  },
  {
   "cell_type": "code",
   "execution_count": 46,
   "id": "576ec48e",
   "metadata": {
    "id": "576ec48e"
   },
   "outputs": [
    {
     "data": {
      "text/html": [
       "<div>\n",
       "<style scoped>\n",
       "    .dataframe tbody tr th:only-of-type {\n",
       "        vertical-align: middle;\n",
       "    }\n",
       "\n",
       "    .dataframe tbody tr th {\n",
       "        vertical-align: top;\n",
       "    }\n",
       "\n",
       "    .dataframe thead th {\n",
       "        text-align: right;\n",
       "    }\n",
       "</style>\n",
       "<table border=\"1\" class=\"dataframe\">\n",
       "  <thead>\n",
       "    <tr style=\"text-align: right;\">\n",
       "      <th></th>\n",
       "      <th>0</th>\n",
       "      <th>1</th>\n",
       "      <th>2</th>\n",
       "      <th>3</th>\n",
       "    </tr>\n",
       "    <tr>\n",
       "      <th>dbscan</th>\n",
       "      <th></th>\n",
       "      <th></th>\n",
       "      <th></th>\n",
       "      <th></th>\n",
       "    </tr>\n",
       "  </thead>\n",
       "  <tbody>\n",
       "    <tr>\n",
       "      <th>0</th>\n",
       "      <td>0.514793</td>\n",
       "      <td>0.715976</td>\n",
       "      <td>0.207101</td>\n",
       "      <td>0.142012</td>\n",
       "    </tr>\n",
       "  </tbody>\n",
       "</table>\n",
       "</div>"
      ],
      "text/plain": [
       "               0         1         2         3\n",
       "dbscan                                        \n",
       "0       0.514793  0.715976  0.207101  0.142012"
      ]
     },
     "execution_count": 46,
     "metadata": {},
     "output_type": "execute_result"
    }
   ],
   "source": [
    "from sklearn.cluster import DBSCAN\n",
    "from sklearn.preprocessing import MinMaxScaler\n",
    "min_samples = X_1.shape[1]+1\n",
    "dbscan = DBSCAN(eps=3.5, min_samples=min_samples).fit(X_1)\n",
    "scaler = MinMaxScaler()\n",
    "df_scaled_1 = pd.DataFrame(scaler.fit_transform(X_1))\n",
    "df_scaled_1['dbscan'] = dbscan.labels_\n",
    "df_mean_1 = (df_scaled_1.loc[df_scaled_1.dbscan!=-1, :]\n",
    "                    .groupby('dbscan').mean())\n",
    "df_mean_1"
   ]
  },
  {
   "cell_type": "code",
   "execution_count": 47,
   "id": "612c6e75",
   "metadata": {
    "id": "612c6e75",
    "scrolled": true
   },
   "outputs": [
    {
     "data": {
      "text/plain": [
       "<AxesSubplot:xlabel='dbscan', ylabel='value'>"
      ]
     },
     "execution_count": 47,
     "metadata": {},
     "output_type": "execute_result"
    },
    {
     "data": {
      "image/png": "[encoded data removed]",
      "text/plain": [
       "<Figure size 432x288 with 1 Axes>"
      ]
     },
     "metadata": {
      "needs_background": "light"
     },
     "output_type": "display_data"
    }
   ],
   "source": [
    "results = pd.DataFrame(columns=['Variable', 'Var'])\n",
    "for column in df_mean_1.columns[:]:\n",
    "    results.loc[len(results), :] = [column, np.var(df_mean_1[column])]\n",
    "selected_columns = list(results.sort_values(\n",
    "        'Var', ascending=False,\n",
    "    ).head(7).Variable.values) + ['dbscan']\n",
    "tidy = df_scaled_1[selected_columns].melt(id_vars='dbscan')\n",
    "sns.barplot(x='dbscan', y='value', hue='variable', data=tidy)"
   ]
  },
  {
   "cell_type": "markdown",
   "id": "97a8e251",
   "metadata": {
    "id": "97a8e251"
   },
   "source": [
    "### 2e groupe : group , IggDam age_dam"
   ]
  },
  {
   "cell_type": "code",
   "execution_count": 48,
   "id": "f80da8df",
   "metadata": {
    "id": "f80da8df"
   },
   "outputs": [],
   "source": [
    "X_2 = X.loc[:,['group','IgG_dam','age_dam']]"
   ]
  },
  {
   "cell_type": "code",
   "execution_count": 49,
   "id": "8f6b8f37",
   "metadata": {
    "id": "8f6b8f37"
   },
   "outputs": [
    {
     "data": {
      "text/html": [
       "<div>\n",
       "<style scoped>\n",
       "    .dataframe tbody tr th:only-of-type {\n",
       "        vertical-align: middle;\n",
       "    }\n",
       "\n",
       "    .dataframe tbody tr th {\n",
       "        vertical-align: top;\n",
       "    }\n",
       "\n",
       "    .dataframe thead th {\n",
       "        text-align: right;\n",
       "    }\n",
       "</style>\n",
       "<table border=\"1\" class=\"dataframe\">\n",
       "  <thead>\n",
       "    <tr style=\"text-align: right;\">\n",
       "      <th></th>\n",
       "      <th>0</th>\n",
       "      <th>1</th>\n",
       "      <th>2</th>\n",
       "    </tr>\n",
       "    <tr>\n",
       "      <th>dbscan</th>\n",
       "      <th></th>\n",
       "      <th></th>\n",
       "      <th></th>\n",
       "    </tr>\n",
       "  </thead>\n",
       "  <tbody>\n",
       "    <tr>\n",
       "      <th>0</th>\n",
       "      <td>0.512821</td>\n",
       "      <td>0.343372</td>\n",
       "      <td>0.489152</td>\n",
       "    </tr>\n",
       "  </tbody>\n",
       "</table>\n",
       "</div>"
      ],
      "text/plain": [
       "               0         1         2\n",
       "dbscan                              \n",
       "0       0.512821  0.343372  0.489152"
      ]
     },
     "execution_count": 49,
     "metadata": {},
     "output_type": "execute_result"
    }
   ],
   "source": [
    "from sklearn.cluster import DBSCAN\n",
    "from sklearn.preprocessing import MinMaxScaler\n",
    "min_samples = X_2.shape[1]+1\n",
    "dbscan = DBSCAN(eps=3.5, min_samples=min_samples).fit(X_2)\n",
    "scaler = MinMaxScaler()\n",
    "df_scaled_2 = pd.DataFrame(scaler.fit_transform(X_2))\n",
    "df_scaled_2['dbscan'] = dbscan.labels_\n",
    "df_scaled_2\n",
    "df_mean_2 = (df_scaled_2.loc[df_scaled_2.dbscan!=-1, :]\n",
    "                    .groupby('dbscan').mean())\n",
    "df_mean_2"
   ]
  },
  {
   "cell_type": "code",
   "execution_count": 50,
   "id": "bb277284",
   "metadata": {
    "id": "bb277284"
   },
   "outputs": [
    {
     "data": {
      "text/plain": [
       "<AxesSubplot:xlabel='dbscan', ylabel='value'>"
      ]
     },
     "execution_count": 50,
     "metadata": {},
     "output_type": "execute_result"
    },
    {
     "data": {
      "image/png": "[encoded data removed]",
      "text/plain": [
       "<Figure size 432x288 with 1 Axes>"
      ]
     },
     "metadata": {
      "needs_background": "light"
     },
     "output_type": "display_data"
    }
   ],
   "source": [
    "results = pd.DataFrame(columns=['Variable', 'Var'])\n",
    "for column in df_mean_2.columns[:]:\n",
    "    results.loc[len(results), :] = [column, np.var(df_mean_2[column])]\n",
    "selected_columns = list(results.sort_values(\n",
    "        'Var', ascending=False,\n",
    "    ).head(7).Variable.values) + ['dbscan']\n",
    "tidy = df_scaled_2[selected_columns].melt(id_vars='dbscan')\n",
    "sns.barplot(x='dbscan', y='value', hue='variable', data=tidy)"
   ]
  },
  {
   "cell_type": "markdown",
   "id": "80ab1e2e",
   "metadata": {
    "id": "80ab1e2e"
   },
   "source": [
    "### 3e groupe : Breed , Litter_size"
   ]
  },
  {
   "cell_type": "code",
   "execution_count": 51,
   "id": "ede7e542",
   "metadata": {
    "id": "ede7e542"
   },
   "outputs": [],
   "source": [
    "X_3 = X.loc[:,['Breed','Litter_size']]"
   ]
  },
  {
   "cell_type": "code",
   "execution_count": 52,
   "id": "d4d277f2",
   "metadata": {
    "id": "d4d277f2"
   },
   "outputs": [
    {
     "data": {
      "text/html": [
       "<div>\n",
       "<style scoped>\n",
       "    .dataframe tbody tr th:only-of-type {\n",
       "        vertical-align: middle;\n",
       "    }\n",
       "\n",
       "    .dataframe tbody tr th {\n",
       "        vertical-align: top;\n",
       "    }\n",
       "\n",
       "    .dataframe thead th {\n",
       "        text-align: right;\n",
       "    }\n",
       "</style>\n",
       "<table border=\"1\" class=\"dataframe\">\n",
       "  <thead>\n",
       "    <tr style=\"text-align: right;\">\n",
       "      <th></th>\n",
       "      <th>0</th>\n",
       "      <th>1</th>\n",
       "    </tr>\n",
       "    <tr>\n",
       "      <th>dbscan</th>\n",
       "      <th></th>\n",
       "      <th></th>\n",
       "    </tr>\n",
       "  </thead>\n",
       "  <tbody>\n",
       "    <tr>\n",
       "      <th>0</th>\n",
       "      <td>0.525013</td>\n",
       "      <td>0.545036</td>\n",
       "    </tr>\n",
       "  </tbody>\n",
       "</table>\n",
       "</div>"
      ],
      "text/plain": [
       "               0         1\n",
       "dbscan                    \n",
       "0       0.525013  0.545036"
      ]
     },
     "execution_count": 52,
     "metadata": {},
     "output_type": "execute_result"
    }
   ],
   "source": [
    "from sklearn.cluster import DBSCAN\n",
    "from sklearn.preprocessing import MinMaxScaler\n",
    "min_samples = X_3.shape[1]+1\n",
    "dbscan = DBSCAN(eps=3.5, min_samples=min_samples).fit(X_3)\n",
    "scaler = MinMaxScaler()\n",
    "df_scaled_3 = pd.DataFrame(scaler.fit_transform(X_3))\n",
    "df_scaled_3['dbscan'] = dbscan.labels_\n",
    "df_mean_3 = (df_scaled_3.loc[df_scaled_3.dbscan!=-1, :]\n",
    "                    .groupby('dbscan').mean())\n",
    "df_mean_3"
   ]
  },
  {
   "cell_type": "code",
   "execution_count": 53,
   "id": "982470eb",
   "metadata": {
    "id": "982470eb"
   },
   "outputs": [
    {
     "data": {
      "text/plain": [
       "<AxesSubplot:xlabel='dbscan', ylabel='value'>"
      ]
     },
     "execution_count": 53,
     "metadata": {},
     "output_type": "execute_result"
    },
    {
     "data": {
      "image/png": "[encoded data removed]",
      "text/plain": [
       "<Figure size 432x288 with 1 Axes>"
      ]
     },
     "metadata": {
      "needs_background": "light"
     },
     "output_type": "display_data"
    }
   ],
   "source": [
    "results = pd.DataFrame(columns=['Variable', 'Var'])\n",
    "for column in df_mean_3.columns[:]:\n",
    "    results.loc[len(results), :] = [column, np.var(df_mean_3[column])]\n",
    "selected_columns = list(results.sort_values(\n",
    "        'Var', ascending=False,\n",
    "    ).head(7).Variable.values) + ['dbscan']\n",
    "tidy = df_scaled_3[selected_columns].melt(id_vars='dbscan')\n",
    "sns.barplot(x='dbscan', y='value', hue='variable', data=tidy)"
   ]
  },
  {
   "cell_type": "markdown",
   "id": "089e6c2d",
   "metadata": {
    "id": "089e6c2d"
   },
   "source": [
    "### 4e groupe : ID_litter , weight_D1"
   ]
  },
  {
   "cell_type": "code",
   "execution_count": 54,
   "id": "3dea9e57",
   "metadata": {
    "id": "3dea9e57"
   },
   "outputs": [],
   "source": [
    "X_4 = X.loc[:,['ID_litter','weight_D1']]"
   ]
  },
  {
   "cell_type": "code",
   "execution_count": 55,
   "id": "46d45a18",
   "metadata": {
    "id": "46d45a18",
    "scrolled": true
   },
   "outputs": [
    {
     "data": {
      "text/html": [
       "<div>\n",
       "<style scoped>\n",
       "    .dataframe tbody tr th:only-of-type {\n",
       "        vertical-align: middle;\n",
       "    }\n",
       "\n",
       "    .dataframe tbody tr th {\n",
       "        vertical-align: top;\n",
       "    }\n",
       "\n",
       "    .dataframe thead th {\n",
       "        text-align: right;\n",
       "    }\n",
       "</style>\n",
       "<table border=\"1\" class=\"dataframe\">\n",
       "  <thead>\n",
       "    <tr style=\"text-align: right;\">\n",
       "      <th></th>\n",
       "      <th>0</th>\n",
       "      <th>1</th>\n",
       "    </tr>\n",
       "    <tr>\n",
       "      <th>dbscan</th>\n",
       "      <th></th>\n",
       "      <th></th>\n",
       "    </tr>\n",
       "  </thead>\n",
       "  <tbody>\n",
       "    <tr>\n",
       "      <th>0</th>\n",
       "      <td>0.056277</td>\n",
       "      <td>0.165054</td>\n",
       "    </tr>\n",
       "    <tr>\n",
       "      <th>1</th>\n",
       "      <td>0.060606</td>\n",
       "      <td>0.132138</td>\n",
       "    </tr>\n",
       "    <tr>\n",
       "      <th>2</th>\n",
       "      <td>0.040404</td>\n",
       "      <td>0.192563</td>\n",
       "    </tr>\n",
       "    <tr>\n",
       "      <th>3</th>\n",
       "      <td>0.191919</td>\n",
       "      <td>0.090305</td>\n",
       "    </tr>\n",
       "    <tr>\n",
       "      <th>4</th>\n",
       "      <td>0.363636</td>\n",
       "      <td>0.245020</td>\n",
       "    </tr>\n",
       "    <tr>\n",
       "      <th>5</th>\n",
       "      <td>0.553030</td>\n",
       "      <td>0.328685</td>\n",
       "    </tr>\n",
       "    <tr>\n",
       "      <th>6</th>\n",
       "      <td>0.636364</td>\n",
       "      <td>0.366036</td>\n",
       "    </tr>\n",
       "    <tr>\n",
       "      <th>7</th>\n",
       "      <td>0.646465</td>\n",
       "      <td>0.519920</td>\n",
       "    </tr>\n",
       "    <tr>\n",
       "      <th>8</th>\n",
       "      <td>0.733333</td>\n",
       "      <td>0.222709</td>\n",
       "    </tr>\n",
       "    <tr>\n",
       "      <th>9</th>\n",
       "      <td>0.767677</td>\n",
       "      <td>0.139442</td>\n",
       "    </tr>\n",
       "  </tbody>\n",
       "</table>\n",
       "</div>"
      ],
      "text/plain": [
       "               0         1\n",
       "dbscan                    \n",
       "0       0.056277  0.165054\n",
       "1       0.060606  0.132138\n",
       "2       0.040404  0.192563\n",
       "3       0.191919  0.090305\n",
       "4       0.363636  0.245020\n",
       "5       0.553030  0.328685\n",
       "6       0.636364  0.366036\n",
       "7       0.646465  0.519920\n",
       "8       0.733333  0.222709\n",
       "9       0.767677  0.139442"
      ]
     },
     "execution_count": 55,
     "metadata": {},
     "output_type": "execute_result"
    }
   ],
   "source": [
    "from sklearn.cluster import DBSCAN\n",
    "from sklearn.preprocessing import MinMaxScaler\n",
    "min_samples = X_4.shape[1]+1\n",
    "dbscan = DBSCAN(eps=3.5, min_samples=min_samples).fit(X_4)\n",
    "scaler = MinMaxScaler()\n",
    "df_scaled_4 = pd.DataFrame(scaler.fit_transform(X_4))\n",
    "df_scaled_4['dbscan'] = dbscan.labels_\n",
    "df_mean_4 = (df_scaled_4.loc[df_scaled_4.dbscan!=-1, :]\n",
    "                    .groupby('dbscan').mean())\n",
    "df_mean_4"
   ]
  },
  {
   "cell_type": "code",
   "execution_count": 56,
   "id": "d1acde36",
   "metadata": {
    "id": "d1acde36"
   },
   "outputs": [
    {
     "data": {
      "text/plain": [
       "<AxesSubplot:xlabel='dbscan', ylabel='value'>"
      ]
     },
     "execution_count": 56,
     "metadata": {},
     "output_type": "execute_result"
    },
    {
     "data": {
      "image/png": "[encoded data removed]",
      "text/plain": [
       "<Figure size 432x288 with 1 Axes>"
      ]
     },
     "metadata": {
      "needs_background": "light"
     },
     "output_type": "display_data"
    }
   ],
   "source": [
    "results = pd.DataFrame(columns=['Variable', 'Var'])\n",
    "for column in df_mean_4.columns[:]:\n",
    "    results.loc[len(results), :] = [column, np.var(df_mean_4[column])]\n",
    "selected_columns = list(results.sort_values(\n",
    "        'Var', ascending=False,\n",
    "    ).head(7).Variable.values) + ['dbscan']\n",
    "tidy = df_scaled_4[selected_columns].melt(id_vars='dbscan')\n",
    "sns.barplot(x='dbscan', y='value', hue='variable', data=tidy)"
   ]
  },
  {
   "cell_type": "markdown",
   "id": "677231f0",
   "metadata": {
    "id": "677231f0"
   },
   "source": [
    "### Sur les 11 features"
   ]
  },
  {
   "cell_type": "code",
   "execution_count": 57,
   "id": "ba477dd4",
   "metadata": {
    "id": "ba477dd4"
   },
   "outputs": [
    {
     "data": {
      "text/html": [
       "<div>\n",
       "<style scoped>\n",
       "    .dataframe tbody tr th:only-of-type {\n",
       "        vertical-align: middle;\n",
       "    }\n",
       "\n",
       "    .dataframe tbody tr th {\n",
       "        vertical-align: top;\n",
       "    }\n",
       "\n",
       "    .dataframe thead th {\n",
       "        text-align: right;\n",
       "    }\n",
       "</style>\n",
       "<table border=\"1\" class=\"dataframe\">\n",
       "  <thead>\n",
       "    <tr style=\"text-align: right;\">\n",
       "      <th></th>\n",
       "      <th>0</th>\n",
       "      <th>1</th>\n",
       "      <th>2</th>\n",
       "      <th>3</th>\n",
       "      <th>4</th>\n",
       "      <th>5</th>\n",
       "      <th>6</th>\n",
       "      <th>7</th>\n",
       "      <th>8</th>\n",
       "      <th>9</th>\n",
       "      <th>10</th>\n",
       "    </tr>\n",
       "    <tr>\n",
       "      <th>dbscan</th>\n",
       "      <th></th>\n",
       "      <th></th>\n",
       "      <th></th>\n",
       "      <th></th>\n",
       "      <th></th>\n",
       "      <th></th>\n",
       "      <th></th>\n",
       "      <th></th>\n",
       "      <th></th>\n",
       "      <th></th>\n",
       "      <th></th>\n",
       "    </tr>\n",
       "  </thead>\n",
       "  <tbody>\n",
       "    <tr>\n",
       "      <th>-1</th>\n",
       "      <td>0.530751</td>\n",
       "      <td>0.514793</td>\n",
       "      <td>0.512821</td>\n",
       "      <td>0.715976</td>\n",
       "      <td>0.525013</td>\n",
       "      <td>0.545036</td>\n",
       "      <td>0.207101</td>\n",
       "      <td>0.142012</td>\n",
       "      <td>0.341651</td>\n",
       "      <td>0.343372</td>\n",
       "      <td>0.489152</td>\n",
       "    </tr>\n",
       "  </tbody>\n",
       "</table>\n",
       "</div>"
      ],
      "text/plain": [
       "              0         1         2         3         4         5         6   \\\n",
       "dbscan                                                                         \n",
       "-1      0.530751  0.514793  0.512821  0.715976  0.525013  0.545036  0.207101   \n",
       "\n",
       "              7         8         9         10  \n",
       "dbscan                                          \n",
       "-1      0.142012  0.341651  0.343372  0.489152  "
      ]
     },
     "execution_count": 57,
     "metadata": {},
     "output_type": "execute_result"
    }
   ],
   "source": [
    "from sklearn.cluster import DBSCAN\n",
    "from sklearn.preprocessing import MinMaxScaler\n",
    "min_samples = X.shape[1]+1\n",
    "dbscan = DBSCAN(eps=3.5, min_samples=min_samples).fit(X)\n",
    "scaler = MinMaxScaler()\n",
    "df_scaled = pd.DataFrame(scaler.fit_transform(X))\n",
    "df_scaled['dbscan'] = dbscan.labels_\n",
    "df_mean = (df_scaled.loc[: , :]\n",
    "                    .groupby('dbscan').mean())\n",
    "df_mean"
   ]
  },
  {
   "cell_type": "markdown",
   "id": "208b635f",
   "metadata": {
    "id": "208b635f"
   },
   "source": [
    "On trouve un cluster à -1 mais il est dit sur le site que cela correspond à du bruit et donc à ignorer."
   ]
  }
 ],
 "metadata": {
  "colab": {
   "name": "Clustering_individuel (1).ipynb",
   "provenance": []
  },
  "kernelspec": {
   "display_name": "Python 3",
   "language": "python",
   "name": "python3"
  },
  "language_info": {
   "codemirror_mode": {
    "name": "ipython",
    "version": 3
   },
   "file_extension": ".py",
   "mimetype": "text/x-python",
   "name": "python",
   "nbconvert_exporter": "python",
   "pygments_lexer": "ipython3",
   "version": "3.8.8"
  }
 },
 "nbformat": 4,
 "nbformat_minor": 5
}
